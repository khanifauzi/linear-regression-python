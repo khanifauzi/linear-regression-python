{
  "nbformat": 4,
  "nbformat_minor": 0,
  "metadata": {
    "colab": {
      "name": "h8_p1lc1_Khanif_Fauzi_Pambudi.ipynb",
      "provenance": []
    },
    "kernelspec": {
      "name": "python3",
      "display_name": "Python 3"
    },
    "language_info": {
      "name": "python"
    }
  },
  "cells": [
    {
      "cell_type": "markdown",
      "metadata": {
        "id": "JAPcOpD5pA-1"
      },
      "source": [
        "# **KHANIF FAUZI PAMBUDI (LIVE CODE 1 PHASE 1)**"
      ]
    },
    {
      "cell_type": "markdown",
      "metadata": {
        "id": "fPoUwBQj0bGL"
      },
      "source": [
        "# **LINEAR REGRESSION**"
      ]
    },
    {
      "cell_type": "markdown",
      "metadata": {
        "id": "K7YVlY3PpGwn"
      },
      "source": [
        "1. Buatlah model linear regression untuk memprediksi biaya asuransi menggunakan dataset yang dapat diunduh di https://www.kaggle.com/mirichoi0218/insurance?select=insurance.csv\n"
      ]
    },
    {
      "cell_type": "markdown",
      "metadata": {
        "id": "Pt_t6A6VpaF0"
      },
      "source": [
        "# **IMPORT LIBRARY**"
      ]
    },
    {
      "cell_type": "code",
      "metadata": {
        "id": "vIQ4KoQDpVpe"
      },
      "source": [
        "import sys\n",
        "assert sys.version_info >= (3, 5)"
      ],
      "execution_count": 137,
      "outputs": []
    },
    {
      "cell_type": "code",
      "metadata": {
        "id": "z08TwTtWpsX9"
      },
      "source": [
        "import sklearn\n",
        "assert sklearn.__version__ >= \"0.20\""
      ],
      "execution_count": 138,
      "outputs": []
    },
    {
      "cell_type": "code",
      "metadata": {
        "id": "TF4VnO7Apufa"
      },
      "source": [
        "import numpy as np\n",
        "import pandas as pd\n",
        "import sklearn.linear_model"
      ],
      "execution_count": 139,
      "outputs": []
    },
    {
      "cell_type": "code",
      "metadata": {
        "id": "zxgOBDLcpwzJ"
      },
      "source": [
        "import numpy as np\n",
        "import matplotlib.pyplot as plt\n",
        "from matplotlib.colors import ListedColormap\n",
        "from sklearn.datasets import make_moons, make_circles, make_classification\n",
        "from sklearn.preprocessing import StandardScaler\n",
        "from sklearn.model_selection import train_test_split\n",
        "from sklearn.metrics import roc_curve, auc,roc_auc_score\n",
        "import time\n",
        "import pandas as pd\n",
        "from sklearn.linear_model import LogisticRegression\n",
        "import seaborn as sns\n",
        "import itertools\n",
        "import gc\n",
        "import os\n",
        "\n",
        "%matplotlib inline"
      ],
      "execution_count": 140,
      "outputs": []
    },
    {
      "cell_type": "markdown",
      "metadata": {
        "id": "t3DRDmT8p3FG"
      },
      "source": [
        "# **DATA LOADING**"
      ]
    },
    {
      "cell_type": "code",
      "metadata": {
        "colab": {
          "base_uri": "https://localhost:8080/",
          "height": 235
        },
        "id": "Pcmi0Md4p5Hi",
        "outputId": "a283bb0b-265b-46d2-84d6-10689aae4c4e"
      },
      "source": [
        "import pandas as pd\n",
        "df = pd.read_csv('insurance.csv', index_col='sex', parse_dates=True)\n",
        "df.head(5)"
      ],
      "execution_count": 141,
      "outputs": [
        {
          "output_type": "execute_result",
          "data": {
            "text/html": [
              "<div>\n",
              "<style scoped>\n",
              "    .dataframe tbody tr th:only-of-type {\n",
              "        vertical-align: middle;\n",
              "    }\n",
              "\n",
              "    .dataframe tbody tr th {\n",
              "        vertical-align: top;\n",
              "    }\n",
              "\n",
              "    .dataframe thead th {\n",
              "        text-align: right;\n",
              "    }\n",
              "</style>\n",
              "<table border=\"1\" class=\"dataframe\">\n",
              "  <thead>\n",
              "    <tr style=\"text-align: right;\">\n",
              "      <th></th>\n",
              "      <th>age</th>\n",
              "      <th>bmi</th>\n",
              "      <th>children</th>\n",
              "      <th>smoker</th>\n",
              "      <th>region</th>\n",
              "      <th>charges</th>\n",
              "    </tr>\n",
              "    <tr>\n",
              "      <th>sex</th>\n",
              "      <th></th>\n",
              "      <th></th>\n",
              "      <th></th>\n",
              "      <th></th>\n",
              "      <th></th>\n",
              "      <th></th>\n",
              "    </tr>\n",
              "  </thead>\n",
              "  <tbody>\n",
              "    <tr>\n",
              "      <th>female</th>\n",
              "      <td>19</td>\n",
              "      <td>27.900</td>\n",
              "      <td>0</td>\n",
              "      <td>yes</td>\n",
              "      <td>southwest</td>\n",
              "      <td>16884.92400</td>\n",
              "    </tr>\n",
              "    <tr>\n",
              "      <th>male</th>\n",
              "      <td>18</td>\n",
              "      <td>33.770</td>\n",
              "      <td>1</td>\n",
              "      <td>no</td>\n",
              "      <td>southeast</td>\n",
              "      <td>1725.55230</td>\n",
              "    </tr>\n",
              "    <tr>\n",
              "      <th>male</th>\n",
              "      <td>28</td>\n",
              "      <td>33.000</td>\n",
              "      <td>3</td>\n",
              "      <td>no</td>\n",
              "      <td>southeast</td>\n",
              "      <td>4449.46200</td>\n",
              "    </tr>\n",
              "    <tr>\n",
              "      <th>male</th>\n",
              "      <td>33</td>\n",
              "      <td>22.705</td>\n",
              "      <td>0</td>\n",
              "      <td>no</td>\n",
              "      <td>northwest</td>\n",
              "      <td>21984.47061</td>\n",
              "    </tr>\n",
              "    <tr>\n",
              "      <th>male</th>\n",
              "      <td>32</td>\n",
              "      <td>28.880</td>\n",
              "      <td>0</td>\n",
              "      <td>no</td>\n",
              "      <td>northwest</td>\n",
              "      <td>3866.85520</td>\n",
              "    </tr>\n",
              "  </tbody>\n",
              "</table>\n",
              "</div>"
            ],
            "text/plain": [
              "        age     bmi  children smoker     region      charges\n",
              "sex                                                         \n",
              "female   19  27.900         0    yes  southwest  16884.92400\n",
              "male     18  33.770         1     no  southeast   1725.55230\n",
              "male     28  33.000         3     no  southeast   4449.46200\n",
              "male     33  22.705         0     no  northwest  21984.47061\n",
              "male     32  28.880         0     no  northwest   3866.85520"
            ]
          },
          "metadata": {
            "tags": []
          },
          "execution_count": 141
        }
      ]
    },
    {
      "cell_type": "markdown",
      "metadata": {
        "id": "PgOjouuFqXIc"
      },
      "source": [
        "# **DATA EXPLORATION**"
      ]
    },
    {
      "cell_type": "code",
      "metadata": {
        "colab": {
          "base_uri": "https://localhost:8080/"
        },
        "id": "xsXd26poqZ8-",
        "outputId": "089567a4-a897-4fe0-ff1e-e4cc1a1c9b46"
      },
      "source": [
        "len(df)"
      ],
      "execution_count": 142,
      "outputs": [
        {
          "output_type": "execute_result",
          "data": {
            "text/plain": [
              "1338"
            ]
          },
          "metadata": {
            "tags": []
          },
          "execution_count": 142
        }
      ]
    },
    {
      "cell_type": "code",
      "metadata": {
        "colab": {
          "base_uri": "https://localhost:8080/"
        },
        "id": "R4VNWrzkqeVc",
        "outputId": "53c925e0-5fa1-4e14-880d-83f8f0a4ffef"
      },
      "source": [
        "df.shape"
      ],
      "execution_count": 143,
      "outputs": [
        {
          "output_type": "execute_result",
          "data": {
            "text/plain": [
              "(1338, 6)"
            ]
          },
          "metadata": {
            "tags": []
          },
          "execution_count": 143
        }
      ]
    },
    {
      "cell_type": "code",
      "metadata": {
        "colab": {
          "base_uri": "https://localhost:8080/"
        },
        "id": "FXadEYgPqhHN",
        "outputId": "4a4b999b-e9c4-4fd6-81e6-517a4a1b27a7"
      },
      "source": [
        "df.info()"
      ],
      "execution_count": 144,
      "outputs": [
        {
          "output_type": "stream",
          "text": [
            "<class 'pandas.core.frame.DataFrame'>\n",
            "Index: 1338 entries, female to female\n",
            "Data columns (total 6 columns):\n",
            " #   Column    Non-Null Count  Dtype  \n",
            "---  ------    --------------  -----  \n",
            " 0   age       1338 non-null   int64  \n",
            " 1   bmi       1338 non-null   float64\n",
            " 2   children  1338 non-null   int64  \n",
            " 3   smoker    1338 non-null   object \n",
            " 4   region    1338 non-null   object \n",
            " 5   charges   1338 non-null   float64\n",
            "dtypes: float64(2), int64(2), object(2)\n",
            "memory usage: 73.2+ KB\n"
          ],
          "name": "stdout"
        }
      ]
    },
    {
      "cell_type": "code",
      "metadata": {
        "colab": {
          "base_uri": "https://localhost:8080/",
          "height": 297
        },
        "id": "pxVjW97Gqmf9",
        "outputId": "aeb6a8e0-e79e-4179-afd2-599323eace34"
      },
      "source": [
        "df.describe()"
      ],
      "execution_count": 145,
      "outputs": [
        {
          "output_type": "execute_result",
          "data": {
            "text/html": [
              "<div>\n",
              "<style scoped>\n",
              "    .dataframe tbody tr th:only-of-type {\n",
              "        vertical-align: middle;\n",
              "    }\n",
              "\n",
              "    .dataframe tbody tr th {\n",
              "        vertical-align: top;\n",
              "    }\n",
              "\n",
              "    .dataframe thead th {\n",
              "        text-align: right;\n",
              "    }\n",
              "</style>\n",
              "<table border=\"1\" class=\"dataframe\">\n",
              "  <thead>\n",
              "    <tr style=\"text-align: right;\">\n",
              "      <th></th>\n",
              "      <th>age</th>\n",
              "      <th>bmi</th>\n",
              "      <th>children</th>\n",
              "      <th>charges</th>\n",
              "    </tr>\n",
              "  </thead>\n",
              "  <tbody>\n",
              "    <tr>\n",
              "      <th>count</th>\n",
              "      <td>1338.000000</td>\n",
              "      <td>1338.000000</td>\n",
              "      <td>1338.000000</td>\n",
              "      <td>1338.000000</td>\n",
              "    </tr>\n",
              "    <tr>\n",
              "      <th>mean</th>\n",
              "      <td>39.207025</td>\n",
              "      <td>30.663397</td>\n",
              "      <td>1.094918</td>\n",
              "      <td>13270.422265</td>\n",
              "    </tr>\n",
              "    <tr>\n",
              "      <th>std</th>\n",
              "      <td>14.049960</td>\n",
              "      <td>6.098187</td>\n",
              "      <td>1.205493</td>\n",
              "      <td>12110.011237</td>\n",
              "    </tr>\n",
              "    <tr>\n",
              "      <th>min</th>\n",
              "      <td>18.000000</td>\n",
              "      <td>15.960000</td>\n",
              "      <td>0.000000</td>\n",
              "      <td>1121.873900</td>\n",
              "    </tr>\n",
              "    <tr>\n",
              "      <th>25%</th>\n",
              "      <td>27.000000</td>\n",
              "      <td>26.296250</td>\n",
              "      <td>0.000000</td>\n",
              "      <td>4740.287150</td>\n",
              "    </tr>\n",
              "    <tr>\n",
              "      <th>50%</th>\n",
              "      <td>39.000000</td>\n",
              "      <td>30.400000</td>\n",
              "      <td>1.000000</td>\n",
              "      <td>9382.033000</td>\n",
              "    </tr>\n",
              "    <tr>\n",
              "      <th>75%</th>\n",
              "      <td>51.000000</td>\n",
              "      <td>34.693750</td>\n",
              "      <td>2.000000</td>\n",
              "      <td>16639.912515</td>\n",
              "    </tr>\n",
              "    <tr>\n",
              "      <th>max</th>\n",
              "      <td>64.000000</td>\n",
              "      <td>53.130000</td>\n",
              "      <td>5.000000</td>\n",
              "      <td>63770.428010</td>\n",
              "    </tr>\n",
              "  </tbody>\n",
              "</table>\n",
              "</div>"
            ],
            "text/plain": [
              "               age          bmi     children       charges\n",
              "count  1338.000000  1338.000000  1338.000000   1338.000000\n",
              "mean     39.207025    30.663397     1.094918  13270.422265\n",
              "std      14.049960     6.098187     1.205493  12110.011237\n",
              "min      18.000000    15.960000     0.000000   1121.873900\n",
              "25%      27.000000    26.296250     0.000000   4740.287150\n",
              "50%      39.000000    30.400000     1.000000   9382.033000\n",
              "75%      51.000000    34.693750     2.000000  16639.912515\n",
              "max      64.000000    53.130000     5.000000  63770.428010"
            ]
          },
          "metadata": {
            "tags": []
          },
          "execution_count": 145
        }
      ]
    },
    {
      "cell_type": "code",
      "metadata": {
        "colab": {
          "base_uri": "https://localhost:8080/"
        },
        "id": "1TVu5WEBqqH7",
        "outputId": "64f0738e-c709-407c-c9d0-552f2124b6b6"
      },
      "source": [
        "df.columns"
      ],
      "execution_count": 146,
      "outputs": [
        {
          "output_type": "execute_result",
          "data": {
            "text/plain": [
              "Index(['age', 'bmi', 'children', 'smoker', 'region', 'charges'], dtype='object')"
            ]
          },
          "metadata": {
            "tags": []
          },
          "execution_count": 146
        }
      ]
    },
    {
      "cell_type": "markdown",
      "metadata": {
        "id": "HIsmyDKNquC_"
      },
      "source": [
        "# **DATA CLEANING**"
      ]
    },
    {
      "cell_type": "markdown",
      "metadata": {
        "id": "bHpbTJKUq3Q0"
      },
      "source": [
        "Mengecek apakah ada missing value pada data set"
      ]
    },
    {
      "cell_type": "code",
      "metadata": {
        "colab": {
          "base_uri": "https://localhost:8080/"
        },
        "id": "NtNMJqYPqsKQ",
        "outputId": "2d33110d-6946-405c-c4d0-f9dd080a9fa2"
      },
      "source": [
        "df.isna().sum()"
      ],
      "execution_count": 147,
      "outputs": [
        {
          "output_type": "execute_result",
          "data": {
            "text/plain": [
              "age         0\n",
              "bmi         0\n",
              "children    0\n",
              "smoker      0\n",
              "region      0\n",
              "charges     0\n",
              "dtype: int64"
            ]
          },
          "metadata": {
            "tags": []
          },
          "execution_count": 147
        }
      ]
    },
    {
      "cell_type": "markdown",
      "metadata": {
        "id": "LnaPd9fQq7Oa"
      },
      "source": [
        "tidak terdapat missing value"
      ]
    },
    {
      "cell_type": "markdown",
      "metadata": {
        "id": "Zy-El8tCvmPa"
      },
      "source": [
        "# **EDA**"
      ]
    },
    {
      "cell_type": "code",
      "metadata": {
        "colab": {
          "base_uri": "https://localhost:8080/"
        },
        "id": "Z-92YmtBvnkN",
        "outputId": "afe38512-d31d-43f9-ca55-0e4176107ce9"
      },
      "source": [
        "df['charges']"
      ],
      "execution_count": 148,
      "outputs": [
        {
          "output_type": "execute_result",
          "data": {
            "text/plain": [
              "sex\n",
              "female    16884.92400\n",
              "male       1725.55230\n",
              "male       4449.46200\n",
              "male      21984.47061\n",
              "male       3866.85520\n",
              "             ...     \n",
              "male      10600.54830\n",
              "female     2205.98080\n",
              "female     1629.83350\n",
              "female     2007.94500\n",
              "female    29141.36030\n",
              "Name: charges, Length: 1338, dtype: float64"
            ]
          },
          "metadata": {
            "tags": []
          },
          "execution_count": 148
        }
      ]
    },
    {
      "cell_type": "code",
      "metadata": {
        "colab": {
          "base_uri": "https://localhost:8080/"
        },
        "id": "-Mj11XervuvJ",
        "outputId": "ad675696-364d-4708-b5c2-544567366ec9"
      },
      "source": [
        "df['region']"
      ],
      "execution_count": 149,
      "outputs": [
        {
          "output_type": "execute_result",
          "data": {
            "text/plain": [
              "sex\n",
              "female    southwest\n",
              "male      southeast\n",
              "male      southeast\n",
              "male      northwest\n",
              "male      northwest\n",
              "            ...    \n",
              "male      northwest\n",
              "female    northeast\n",
              "female    southeast\n",
              "female    southwest\n",
              "female    northwest\n",
              "Name: region, Length: 1338, dtype: object"
            ]
          },
          "metadata": {
            "tags": []
          },
          "execution_count": 149
        }
      ]
    },
    {
      "cell_type": "code",
      "metadata": {
        "colab": {
          "base_uri": "https://localhost:8080/"
        },
        "id": "v8PVfmqkvz7n",
        "outputId": "8540a969-3522-4a35-9730-45223697ebf1"
      },
      "source": [
        "df['bmi']"
      ],
      "execution_count": 150,
      "outputs": [
        {
          "output_type": "execute_result",
          "data": {
            "text/plain": [
              "sex\n",
              "female    27.900\n",
              "male      33.770\n",
              "male      33.000\n",
              "male      22.705\n",
              "male      28.880\n",
              "           ...  \n",
              "male      30.970\n",
              "female    31.920\n",
              "female    36.850\n",
              "female    25.800\n",
              "female    29.070\n",
              "Name: bmi, Length: 1338, dtype: float64"
            ]
          },
          "metadata": {
            "tags": []
          },
          "execution_count": 150
        }
      ]
    },
    {
      "cell_type": "code",
      "metadata": {
        "colab": {
          "base_uri": "https://localhost:8080/"
        },
        "id": "7nZwgu5A75g4",
        "outputId": "b591a43e-9e60-426b-b01a-0238095da5cd"
      },
      "source": [
        "df['bmi'].mean"
      ],
      "execution_count": 151,
      "outputs": [
        {
          "output_type": "execute_result",
          "data": {
            "text/plain": [
              "<bound method Series.mean of sex\n",
              "female    27.900\n",
              "male      33.770\n",
              "male      33.000\n",
              "male      22.705\n",
              "male      28.880\n",
              "           ...  \n",
              "male      30.970\n",
              "female    31.920\n",
              "female    36.850\n",
              "female    25.800\n",
              "female    29.070\n",
              "Name: bmi, Length: 1338, dtype: float64>"
            ]
          },
          "metadata": {
            "tags": []
          },
          "execution_count": 151
        }
      ]
    },
    {
      "cell_type": "code",
      "metadata": {
        "colab": {
          "base_uri": "https://localhost:8080/"
        },
        "id": "vXNf0yPLwKSM",
        "outputId": "fa3b98ee-a32e-45e0-f6c6-c957e59cfa19"
      },
      "source": [
        "df['smoker']"
      ],
      "execution_count": 152,
      "outputs": [
        {
          "output_type": "execute_result",
          "data": {
            "text/plain": [
              "sex\n",
              "female    yes\n",
              "male       no\n",
              "male       no\n",
              "male       no\n",
              "male       no\n",
              "         ... \n",
              "male       no\n",
              "female     no\n",
              "female     no\n",
              "female     no\n",
              "female    yes\n",
              "Name: smoker, Length: 1338, dtype: object"
            ]
          },
          "metadata": {
            "tags": []
          },
          "execution_count": 152
        }
      ]
    },
    {
      "cell_type": "code",
      "metadata": {
        "colab": {
          "base_uri": "https://localhost:8080/"
        },
        "id": "pn7CS7cU8DKq",
        "outputId": "675cb8b4-ba27-4c4f-cfc0-14bcb7aa0ae8"
      },
      "source": [
        "df['smoker'].mode"
      ],
      "execution_count": 153,
      "outputs": [
        {
          "output_type": "execute_result",
          "data": {
            "text/plain": [
              "<bound method Series.mode of sex\n",
              "female    yes\n",
              "male       no\n",
              "male       no\n",
              "male       no\n",
              "male       no\n",
              "         ... \n",
              "male       no\n",
              "female     no\n",
              "female     no\n",
              "female     no\n",
              "female    yes\n",
              "Name: smoker, Length: 1338, dtype: object>"
            ]
          },
          "metadata": {
            "tags": []
          },
          "execution_count": 153
        }
      ]
    },
    {
      "cell_type": "code",
      "metadata": {
        "colab": {
          "base_uri": "https://localhost:8080/",
          "height": 405
        },
        "id": "H_D6PTkFwUDI",
        "outputId": "1963845c-293c-4b2b-e77f-4f51cb5a379d"
      },
      "source": [
        "plt.figure(figsize=(8,6))\n",
        "sns.scatterplot(data=df,x='charges',y='smoker',hue='sex')"
      ],
      "execution_count": 154,
      "outputs": [
        {
          "output_type": "execute_result",
          "data": {
            "text/plain": [
              "<matplotlib.axes._subplots.AxesSubplot at 0x7f881198b0d0>"
            ]
          },
          "metadata": {
            "tags": []
          },
          "execution_count": 154
        },
        {
          "output_type": "display_data",
          "data": {
            "image/png": "[encoded data removed]",
            "text/plain": [
              "<Figure size 576x432 with 1 Axes>"
            ]
          },
          "metadata": {
            "tags": [],
            "needs_background": "light"
          }
        }
      ]
    },
    {
      "cell_type": "markdown",
      "metadata": {
        "id": "xtWNmdq07xqs"
      },
      "source": [
        "# **EDA ANALYSIS**"
      ]
    },
    {
      "cell_type": "markdown",
      "metadata": {
        "id": "s3tynowm7z6x"
      },
      "source": [
        "Setelah dilakukan explorasi data dapat dilihat bahwa rata-rata bmi pada dataset insurance sebesar 27.9 kemudian kebanyakan dari peserta insurance tersebut merupakan perokok yang didominasi oleh laki-laki"
      ]
    },
    {
      "cell_type": "markdown",
      "metadata": {
        "id": "ZQ-8zdwNq-xd"
      },
      "source": [
        "# **PREPROCESSING DATA**"
      ]
    },
    {
      "cell_type": "code",
      "metadata": {
        "colab": {
          "base_uri": "https://localhost:8080/",
          "height": 235
        },
        "id": "Sa_wTJYArF8p",
        "outputId": "57d82dbe-d122-44ec-d72a-76f9c4a9036d"
      },
      "source": [
        "data = df.loc[:, ['age', 'charges' ]]\n",
        "data.head()"
      ],
      "execution_count": 155,
      "outputs": [
        {
          "output_type": "execute_result",
          "data": {
            "text/html": [
              "<div>\n",
              "<style scoped>\n",
              "    .dataframe tbody tr th:only-of-type {\n",
              "        vertical-align: middle;\n",
              "    }\n",
              "\n",
              "    .dataframe tbody tr th {\n",
              "        vertical-align: top;\n",
              "    }\n",
              "\n",
              "    .dataframe thead th {\n",
              "        text-align: right;\n",
              "    }\n",
              "</style>\n",
              "<table border=\"1\" class=\"dataframe\">\n",
              "  <thead>\n",
              "    <tr style=\"text-align: right;\">\n",
              "      <th></th>\n",
              "      <th>age</th>\n",
              "      <th>charges</th>\n",
              "    </tr>\n",
              "    <tr>\n",
              "      <th>sex</th>\n",
              "      <th></th>\n",
              "      <th></th>\n",
              "    </tr>\n",
              "  </thead>\n",
              "  <tbody>\n",
              "    <tr>\n",
              "      <th>female</th>\n",
              "      <td>19</td>\n",
              "      <td>16884.92400</td>\n",
              "    </tr>\n",
              "    <tr>\n",
              "      <th>male</th>\n",
              "      <td>18</td>\n",
              "      <td>1725.55230</td>\n",
              "    </tr>\n",
              "    <tr>\n",
              "      <th>male</th>\n",
              "      <td>28</td>\n",
              "      <td>4449.46200</td>\n",
              "    </tr>\n",
              "    <tr>\n",
              "      <th>male</th>\n",
              "      <td>33</td>\n",
              "      <td>21984.47061</td>\n",
              "    </tr>\n",
              "    <tr>\n",
              "      <th>male</th>\n",
              "      <td>32</td>\n",
              "      <td>3866.85520</td>\n",
              "    </tr>\n",
              "  </tbody>\n",
              "</table>\n",
              "</div>"
            ],
            "text/plain": [
              "        age      charges\n",
              "sex                     \n",
              "female   19  16884.92400\n",
              "male     18   1725.55230\n",
              "male     28   4449.46200\n",
              "male     33  21984.47061\n",
              "male     32   3866.85520"
            ]
          },
          "metadata": {
            "tags": []
          },
          "execution_count": 155
        }
      ]
    },
    {
      "cell_type": "markdown",
      "metadata": {
        "id": "dV2D8X7Tsb3B"
      },
      "source": [
        "# **MODEL LINEAR REGRESSION**"
      ]
    },
    {
      "cell_type": "code",
      "metadata": {
        "colab": {
          "base_uri": "https://localhost:8080/"
        },
        "id": "Oxx1Efr3sKuT",
        "outputId": "6cecf951-89e6-44c0-dd2a-87adbab25234"
      },
      "source": [
        "from sklearn import linear_model\n",
        "lin1 = linear_model.LinearRegression()\n",
        "Xsample = np.c_[df[\"age\"]]\n",
        "ysample = np.c_[df[\"charges\"]]\n",
        "lin1.fit(Xsample, ysample)\n",
        "t0, t1 = lin1.intercept_[0], lin1.coef_[0][0]\n",
        "t0, t1"
      ],
      "execution_count": 156,
      "outputs": [
        {
          "output_type": "execute_result",
          "data": {
            "text/plain": [
              "(3165.885006063021, 257.72261866689564)"
            ]
          },
          "metadata": {
            "tags": []
          },
          "execution_count": 156
        }
      ]
    },
    {
      "cell_type": "code",
      "metadata": {
        "id": "zNvdk-2TsqgD"
      },
      "source": [
        "import sklearn.linear_model\n",
        "lin1 = sklearn.linear_model.LinearRegression()"
      ],
      "execution_count": 157,
      "outputs": []
    },
    {
      "cell_type": "code",
      "metadata": {
        "id": "cUMQBHacsuv6"
      },
      "source": [
        "import sklearn.neighbors\n",
        "model = sklearn.neighbors.KNeighborsRegressor(n_neighbors=3)"
      ],
      "execution_count": 158,
      "outputs": []
    },
    {
      "cell_type": "code",
      "metadata": {
        "colab": {
          "base_uri": "https://localhost:8080/"
        },
        "id": "5sGyDxwZszVs",
        "outputId": "66e7c426-dfa0-4d58-8376-3dc064ef95ff"
      },
      "source": [
        "X = np.c_[df[\"age\"]]\n",
        "y = np.c_[df[\"charges\"]]\n",
        "\n",
        "# Train the model\n",
        "lin1.fit(X, y)\n",
        "\n",
        "# Make a prediction for price\n",
        "X_new = np.array([[25]]) \n",
        "print(lin1.predict(X_new)) "
      ],
      "execution_count": 159,
      "outputs": [
        {
          "output_type": "stream",
          "text": [
            "[[9608.95047274]]\n"
          ],
          "name": "stdout"
        }
      ]
    },
    {
      "cell_type": "markdown",
      "metadata": {
        "id": "srBavnL2tP3O"
      },
      "source": [
        "# **TRAINING MODEL**"
      ]
    },
    {
      "cell_type": "code",
      "metadata": {
        "id": "nICCblQ2tSEb"
      },
      "source": [
        "import pandas as pd\n",
        "df = pd.read_csv('insurance.csv', index_col='sex', parse_dates=True)"
      ],
      "execution_count": 160,
      "outputs": []
    },
    {
      "cell_type": "code",
      "metadata": {
        "colab": {
          "base_uri": "https://localhost:8080/",
          "height": 419
        },
        "id": "MuNIdkbvwxnZ",
        "outputId": "bcbe0f13-a8db-4c41-d625-48c5750f366b"
      },
      "source": [
        "id_cols = ['sex','age']\n",
        "feature_cols = ['bmi', 'children', 'smoker', 'region', 'charges']\n",
        "target_cols = ['charges']\n",
        "df=pd.read_csv('insurance.csv',usecols=id_cols+feature_cols+target_cols)\n",
        "df=df[id_cols+feature_cols+target_cols]\n",
        "df['age']=df['age'].astype(str).apply(lambda x:x[0:8])\n",
        "df_train = df[df['age']<'2500'].sort_values(['age'])\n",
        "df_train"
      ],
      "execution_count": 161,
      "outputs": [
        {
          "output_type": "execute_result",
          "data": {
            "text/html": [
              "<div>\n",
              "<style scoped>\n",
              "    .dataframe tbody tr th:only-of-type {\n",
              "        vertical-align: middle;\n",
              "    }\n",
              "\n",
              "    .dataframe tbody tr th {\n",
              "        vertical-align: top;\n",
              "    }\n",
              "\n",
              "    .dataframe thead th {\n",
              "        text-align: right;\n",
              "    }\n",
              "</style>\n",
              "<table border=\"1\" class=\"dataframe\">\n",
              "  <thead>\n",
              "    <tr style=\"text-align: right;\">\n",
              "      <th></th>\n",
              "      <th>sex</th>\n",
              "      <th>age</th>\n",
              "      <th>bmi</th>\n",
              "      <th>children</th>\n",
              "      <th>smoker</th>\n",
              "      <th>region</th>\n",
              "      <th>charges</th>\n",
              "      <th>charges</th>\n",
              "    </tr>\n",
              "  </thead>\n",
              "  <tbody>\n",
              "    <tr>\n",
              "      <th>1095</th>\n",
              "      <td>female</td>\n",
              "      <td>18</td>\n",
              "      <td>31.350</td>\n",
              "      <td>4</td>\n",
              "      <td>no</td>\n",
              "      <td>northeast</td>\n",
              "      <td>4561.18850</td>\n",
              "      <td>4561.18850</td>\n",
              "    </tr>\n",
              "    <tr>\n",
              "      <th>250</th>\n",
              "      <td>male</td>\n",
              "      <td>18</td>\n",
              "      <td>17.290</td>\n",
              "      <td>2</td>\n",
              "      <td>yes</td>\n",
              "      <td>northeast</td>\n",
              "      <td>12829.45510</td>\n",
              "      <td>12829.45510</td>\n",
              "    </tr>\n",
              "    <tr>\n",
              "      <th>571</th>\n",
              "      <td>female</td>\n",
              "      <td>18</td>\n",
              "      <td>37.290</td>\n",
              "      <td>1</td>\n",
              "      <td>no</td>\n",
              "      <td>southeast</td>\n",
              "      <td>2219.44510</td>\n",
              "      <td>2219.44510</td>\n",
              "    </tr>\n",
              "    <tr>\n",
              "      <th>1204</th>\n",
              "      <td>female</td>\n",
              "      <td>18</td>\n",
              "      <td>27.280</td>\n",
              "      <td>3</td>\n",
              "      <td>yes</td>\n",
              "      <td>southeast</td>\n",
              "      <td>18223.45120</td>\n",
              "      <td>18223.45120</td>\n",
              "    </tr>\n",
              "    <tr>\n",
              "      <th>1212</th>\n",
              "      <td>male</td>\n",
              "      <td>18</td>\n",
              "      <td>21.470</td>\n",
              "      <td>0</td>\n",
              "      <td>no</td>\n",
              "      <td>northeast</td>\n",
              "      <td>1702.45530</td>\n",
              "      <td>1702.45530</td>\n",
              "    </tr>\n",
              "    <tr>\n",
              "      <th>...</th>\n",
              "      <td>...</td>\n",
              "      <td>...</td>\n",
              "      <td>...</td>\n",
              "      <td>...</td>\n",
              "      <td>...</td>\n",
              "      <td>...</td>\n",
              "      <td>...</td>\n",
              "      <td>...</td>\n",
              "    </tr>\n",
              "    <tr>\n",
              "      <th>554</th>\n",
              "      <td>female</td>\n",
              "      <td>25</td>\n",
              "      <td>41.325</td>\n",
              "      <td>0</td>\n",
              "      <td>no</td>\n",
              "      <td>northeast</td>\n",
              "      <td>17878.90068</td>\n",
              "      <td>17878.90068</td>\n",
              "    </tr>\n",
              "    <tr>\n",
              "      <th>949</th>\n",
              "      <td>male</td>\n",
              "      <td>25</td>\n",
              "      <td>29.700</td>\n",
              "      <td>3</td>\n",
              "      <td>yes</td>\n",
              "      <td>southwest</td>\n",
              "      <td>19933.45800</td>\n",
              "      <td>19933.45800</td>\n",
              "    </tr>\n",
              "    <tr>\n",
              "      <th>579</th>\n",
              "      <td>female</td>\n",
              "      <td>25</td>\n",
              "      <td>23.465</td>\n",
              "      <td>0</td>\n",
              "      <td>no</td>\n",
              "      <td>northeast</td>\n",
              "      <td>3206.49135</td>\n",
              "      <td>3206.49135</td>\n",
              "    </tr>\n",
              "    <tr>\n",
              "      <th>274</th>\n",
              "      <td>male</td>\n",
              "      <td>25</td>\n",
              "      <td>27.550</td>\n",
              "      <td>0</td>\n",
              "      <td>no</td>\n",
              "      <td>northwest</td>\n",
              "      <td>2523.16950</td>\n",
              "      <td>2523.16950</td>\n",
              "    </tr>\n",
              "    <tr>\n",
              "      <th>869</th>\n",
              "      <td>female</td>\n",
              "      <td>25</td>\n",
              "      <td>24.300</td>\n",
              "      <td>3</td>\n",
              "      <td>no</td>\n",
              "      <td>southwest</td>\n",
              "      <td>4391.65200</td>\n",
              "      <td>4391.65200</td>\n",
              "    </tr>\n",
              "  </tbody>\n",
              "</table>\n",
              "<p>306 rows × 8 columns</p>\n",
              "</div>"
            ],
            "text/plain": [
              "         sex age     bmi  children smoker     region      charges      charges\n",
              "1095  female  18  31.350         4     no  northeast   4561.18850   4561.18850\n",
              "250     male  18  17.290         2    yes  northeast  12829.45510  12829.45510\n",
              "571   female  18  37.290         1     no  southeast   2219.44510   2219.44510\n",
              "1204  female  18  27.280         3    yes  southeast  18223.45120  18223.45120\n",
              "1212    male  18  21.470         0     no  northeast   1702.45530   1702.45530\n",
              "...      ...  ..     ...       ...    ...        ...          ...          ...\n",
              "554   female  25  41.325         0     no  northeast  17878.90068  17878.90068\n",
              "949     male  25  29.700         3    yes  southwest  19933.45800  19933.45800\n",
              "579   female  25  23.465         0     no  northeast   3206.49135   3206.49135\n",
              "274     male  25  27.550         0     no  northwest   2523.16950   2523.16950\n",
              "869   female  25  24.300         3     no  southwest   4391.65200   4391.65200\n",
              "\n",
              "[306 rows x 8 columns]"
            ]
          },
          "metadata": {
            "tags": []
          },
          "execution_count": 161
        }
      ]
    },
    {
      "cell_type": "code",
      "metadata": {
        "colab": {
          "base_uri": "https://localhost:8080/",
          "height": 297
        },
        "id": "A_pGsURwwlfe",
        "outputId": "5e0891a5-97e9-4a79-9915-e82b23e2d901"
      },
      "source": [
        "df_train.describe()"
      ],
      "execution_count": 162,
      "outputs": [
        {
          "output_type": "execute_result",
          "data": {
            "text/html": [
              "<div>\n",
              "<style scoped>\n",
              "    .dataframe tbody tr th:only-of-type {\n",
              "        vertical-align: middle;\n",
              "    }\n",
              "\n",
              "    .dataframe tbody tr th {\n",
              "        vertical-align: top;\n",
              "    }\n",
              "\n",
              "    .dataframe thead th {\n",
              "        text-align: right;\n",
              "    }\n",
              "</style>\n",
              "<table border=\"1\" class=\"dataframe\">\n",
              "  <thead>\n",
              "    <tr style=\"text-align: right;\">\n",
              "      <th></th>\n",
              "      <th>bmi</th>\n",
              "      <th>children</th>\n",
              "      <th>charges</th>\n",
              "      <th>charges</th>\n",
              "    </tr>\n",
              "  </thead>\n",
              "  <tbody>\n",
              "    <tr>\n",
              "      <th>count</th>\n",
              "      <td>306.000000</td>\n",
              "      <td>306.000000</td>\n",
              "      <td>306.000000</td>\n",
              "      <td>306.000000</td>\n",
              "    </tr>\n",
              "    <tr>\n",
              "      <th>mean</th>\n",
              "      <td>30.007353</td>\n",
              "      <td>0.666667</td>\n",
              "      <td>9087.015807</td>\n",
              "      <td>9087.015807</td>\n",
              "    </tr>\n",
              "    <tr>\n",
              "      <th>std</th>\n",
              "      <td>6.316757</td>\n",
              "      <td>1.113258</td>\n",
              "      <td>11756.765169</td>\n",
              "      <td>11756.765169</td>\n",
              "    </tr>\n",
              "    <tr>\n",
              "      <th>min</th>\n",
              "      <td>15.960000</td>\n",
              "      <td>0.000000</td>\n",
              "      <td>1121.873900</td>\n",
              "      <td>1121.873900</td>\n",
              "    </tr>\n",
              "    <tr>\n",
              "      <th>25%</th>\n",
              "      <td>25.591250</td>\n",
              "      <td>0.000000</td>\n",
              "      <td>1875.990350</td>\n",
              "      <td>1875.990350</td>\n",
              "    </tr>\n",
              "    <tr>\n",
              "      <th>50%</th>\n",
              "      <td>30.025000</td>\n",
              "      <td>0.000000</td>\n",
              "      <td>2636.017450</td>\n",
              "      <td>2636.017450</td>\n",
              "    </tr>\n",
              "    <tr>\n",
              "      <th>75%</th>\n",
              "      <td>33.990000</td>\n",
              "      <td>1.000000</td>\n",
              "      <td>14535.436562</td>\n",
              "      <td>14535.436562</td>\n",
              "    </tr>\n",
              "    <tr>\n",
              "      <th>max</th>\n",
              "      <td>53.130000</td>\n",
              "      <td>5.000000</td>\n",
              "      <td>44501.398200</td>\n",
              "      <td>44501.398200</td>\n",
              "    </tr>\n",
              "  </tbody>\n",
              "</table>\n",
              "</div>"
            ],
            "text/plain": [
              "              bmi    children       charges       charges\n",
              "count  306.000000  306.000000    306.000000    306.000000\n",
              "mean    30.007353    0.666667   9087.015807   9087.015807\n",
              "std      6.316757    1.113258  11756.765169  11756.765169\n",
              "min     15.960000    0.000000   1121.873900   1121.873900\n",
              "25%     25.591250    0.000000   1875.990350   1875.990350\n",
              "50%     30.025000    0.000000   2636.017450   2636.017450\n",
              "75%     33.990000    1.000000  14535.436562  14535.436562\n",
              "max     53.130000    5.000000  44501.398200  44501.398200"
            ]
          },
          "metadata": {
            "tags": []
          },
          "execution_count": 162
        }
      ]
    },
    {
      "cell_type": "code",
      "metadata": {
        "colab": {
          "base_uri": "https://localhost:8080/",
          "height": 419
        },
        "id": "2evEZMgFx1On",
        "outputId": "285b48dd-e90b-4aac-8328-b6b85ecc5a05"
      },
      "source": [
        "df_test = df[df['age']>='2500'].sort_values(['age'])[id_cols+feature_cols]\n",
        "df_test"
      ],
      "execution_count": 163,
      "outputs": [
        {
          "output_type": "execute_result",
          "data": {
            "text/html": [
              "<div>\n",
              "<style scoped>\n",
              "    .dataframe tbody tr th:only-of-type {\n",
              "        vertical-align: middle;\n",
              "    }\n",
              "\n",
              "    .dataframe tbody tr th {\n",
              "        vertical-align: top;\n",
              "    }\n",
              "\n",
              "    .dataframe thead th {\n",
              "        text-align: right;\n",
              "    }\n",
              "</style>\n",
              "<table border=\"1\" class=\"dataframe\">\n",
              "  <thead>\n",
              "    <tr style=\"text-align: right;\">\n",
              "      <th></th>\n",
              "      <th>sex</th>\n",
              "      <th>age</th>\n",
              "      <th>bmi</th>\n",
              "      <th>children</th>\n",
              "      <th>smoker</th>\n",
              "      <th>region</th>\n",
              "      <th>charges</th>\n",
              "      <th>charges</th>\n",
              "    </tr>\n",
              "  </thead>\n",
              "  <tbody>\n",
              "    <tr>\n",
              "      <th>977</th>\n",
              "      <td>male</td>\n",
              "      <td>26</td>\n",
              "      <td>29.150</td>\n",
              "      <td>1</td>\n",
              "      <td>no</td>\n",
              "      <td>southeast</td>\n",
              "      <td>2902.90650</td>\n",
              "      <td>2902.90650</td>\n",
              "    </tr>\n",
              "    <tr>\n",
              "      <th>871</th>\n",
              "      <td>female</td>\n",
              "      <td>26</td>\n",
              "      <td>29.480</td>\n",
              "      <td>1</td>\n",
              "      <td>no</td>\n",
              "      <td>southeast</td>\n",
              "      <td>3392.36520</td>\n",
              "      <td>3392.36520</td>\n",
              "    </tr>\n",
              "    <tr>\n",
              "      <th>388</th>\n",
              "      <td>female</td>\n",
              "      <td>26</td>\n",
              "      <td>22.610</td>\n",
              "      <td>0</td>\n",
              "      <td>no</td>\n",
              "      <td>northwest</td>\n",
              "      <td>3176.81590</td>\n",
              "      <td>3176.81590</td>\n",
              "    </tr>\n",
              "    <tr>\n",
              "      <th>902</th>\n",
              "      <td>male</td>\n",
              "      <td>26</td>\n",
              "      <td>27.265</td>\n",
              "      <td>3</td>\n",
              "      <td>no</td>\n",
              "      <td>northeast</td>\n",
              "      <td>4661.28635</td>\n",
              "      <td>4661.28635</td>\n",
              "    </tr>\n",
              "    <tr>\n",
              "      <th>905</th>\n",
              "      <td>female</td>\n",
              "      <td>26</td>\n",
              "      <td>29.355</td>\n",
              "      <td>2</td>\n",
              "      <td>no</td>\n",
              "      <td>northeast</td>\n",
              "      <td>4564.19145</td>\n",
              "      <td>4564.19145</td>\n",
              "    </tr>\n",
              "    <tr>\n",
              "      <th>...</th>\n",
              "      <td>...</td>\n",
              "      <td>...</td>\n",
              "      <td>...</td>\n",
              "      <td>...</td>\n",
              "      <td>...</td>\n",
              "      <td>...</td>\n",
              "      <td>...</td>\n",
              "      <td>...</td>\n",
              "    </tr>\n",
              "    <tr>\n",
              "      <th>825</th>\n",
              "      <td>female</td>\n",
              "      <td>64</td>\n",
              "      <td>31.825</td>\n",
              "      <td>2</td>\n",
              "      <td>no</td>\n",
              "      <td>northeast</td>\n",
              "      <td>16069.08475</td>\n",
              "      <td>16069.08475</td>\n",
              "    </tr>\n",
              "    <tr>\n",
              "      <th>402</th>\n",
              "      <td>female</td>\n",
              "      <td>64</td>\n",
              "      <td>32.965</td>\n",
              "      <td>0</td>\n",
              "      <td>no</td>\n",
              "      <td>northwest</td>\n",
              "      <td>14692.66935</td>\n",
              "      <td>14692.66935</td>\n",
              "    </tr>\n",
              "    <tr>\n",
              "      <th>418</th>\n",
              "      <td>male</td>\n",
              "      <td>64</td>\n",
              "      <td>39.160</td>\n",
              "      <td>1</td>\n",
              "      <td>no</td>\n",
              "      <td>southeast</td>\n",
              "      <td>14418.28040</td>\n",
              "      <td>14418.28040</td>\n",
              "    </tr>\n",
              "    <tr>\n",
              "      <th>1051</th>\n",
              "      <td>male</td>\n",
              "      <td>64</td>\n",
              "      <td>26.410</td>\n",
              "      <td>0</td>\n",
              "      <td>no</td>\n",
              "      <td>northeast</td>\n",
              "      <td>14394.55790</td>\n",
              "      <td>14394.55790</td>\n",
              "    </tr>\n",
              "    <tr>\n",
              "      <th>398</th>\n",
              "      <td>male</td>\n",
              "      <td>64</td>\n",
              "      <td>25.600</td>\n",
              "      <td>2</td>\n",
              "      <td>no</td>\n",
              "      <td>southwest</td>\n",
              "      <td>14988.43200</td>\n",
              "      <td>14988.43200</td>\n",
              "    </tr>\n",
              "  </tbody>\n",
              "</table>\n",
              "<p>1032 rows × 8 columns</p>\n",
              "</div>"
            ],
            "text/plain": [
              "         sex age     bmi  children smoker     region      charges      charges\n",
              "977     male  26  29.150         1     no  southeast   2902.90650   2902.90650\n",
              "871   female  26  29.480         1     no  southeast   3392.36520   3392.36520\n",
              "388   female  26  22.610         0     no  northwest   3176.81590   3176.81590\n",
              "902     male  26  27.265         3     no  northeast   4661.28635   4661.28635\n",
              "905   female  26  29.355         2     no  northeast   4564.19145   4564.19145\n",
              "...      ...  ..     ...       ...    ...        ...          ...          ...\n",
              "825   female  64  31.825         2     no  northeast  16069.08475  16069.08475\n",
              "402   female  64  32.965         0     no  northwest  14692.66935  14692.66935\n",
              "418     male  64  39.160         1     no  southeast  14418.28040  14418.28040\n",
              "1051    male  64  26.410         0     no  northeast  14394.55790  14394.55790\n",
              "398     male  64  25.600         2     no  southwest  14988.43200  14988.43200\n",
              "\n",
              "[1032 rows x 8 columns]"
            ]
          },
          "metadata": {
            "tags": []
          },
          "execution_count": 163
        }
      ]
    },
    {
      "cell_type": "code",
      "metadata": {
        "id": "-M-oeoARyBbb"
      },
      "source": [
        "X = df_train[feature_cols]\n",
        "y = df_train['charges']"
      ],
      "execution_count": 164,
      "outputs": []
    },
    {
      "cell_type": "code",
      "metadata": {
        "colab": {
          "base_uri": "https://localhost:8080/",
          "height": 190
        },
        "id": "PQtWELM7yi3L",
        "outputId": "f82506a6-e28d-4154-be70-68113d3bf5cc"
      },
      "source": [
        "print(np.abs((X.corr())>0.7).agg('sum').sum()-len(X.columns))\n",
        "df_train.corr()"
      ],
      "execution_count": 165,
      "outputs": [
        {
          "output_type": "stream",
          "text": [
            "0\n"
          ],
          "name": "stdout"
        },
        {
          "output_type": "execute_result",
          "data": {
            "text/html": [
              "<div>\n",
              "<style scoped>\n",
              "    .dataframe tbody tr th:only-of-type {\n",
              "        vertical-align: middle;\n",
              "    }\n",
              "\n",
              "    .dataframe tbody tr th {\n",
              "        vertical-align: top;\n",
              "    }\n",
              "\n",
              "    .dataframe thead th {\n",
              "        text-align: right;\n",
              "    }\n",
              "</style>\n",
              "<table border=\"1\" class=\"dataframe\">\n",
              "  <thead>\n",
              "    <tr style=\"text-align: right;\">\n",
              "      <th></th>\n",
              "      <th>bmi</th>\n",
              "      <th>children</th>\n",
              "      <th>charges</th>\n",
              "      <th>charges</th>\n",
              "    </tr>\n",
              "  </thead>\n",
              "  <tbody>\n",
              "    <tr>\n",
              "      <th>bmi</th>\n",
              "      <td>1.000000</td>\n",
              "      <td>-0.033339</td>\n",
              "      <td>0.225814</td>\n",
              "      <td>0.225814</td>\n",
              "    </tr>\n",
              "    <tr>\n",
              "      <th>children</th>\n",
              "      <td>-0.033339</td>\n",
              "      <td>1.000000</td>\n",
              "      <td>0.118207</td>\n",
              "      <td>0.118207</td>\n",
              "    </tr>\n",
              "    <tr>\n",
              "      <th>charges</th>\n",
              "      <td>0.225814</td>\n",
              "      <td>0.118207</td>\n",
              "      <td>1.000000</td>\n",
              "      <td>1.000000</td>\n",
              "    </tr>\n",
              "    <tr>\n",
              "      <th>charges</th>\n",
              "      <td>0.225814</td>\n",
              "      <td>0.118207</td>\n",
              "      <td>1.000000</td>\n",
              "      <td>1.000000</td>\n",
              "    </tr>\n",
              "  </tbody>\n",
              "</table>\n",
              "</div>"
            ],
            "text/plain": [
              "               bmi  children   charges   charges\n",
              "bmi       1.000000 -0.033339  0.225814  0.225814\n",
              "children -0.033339  1.000000  0.118207  0.118207\n",
              "charges   0.225814  0.118207  1.000000  1.000000\n",
              "charges   0.225814  0.118207  1.000000  1.000000"
            ]
          },
          "metadata": {
            "tags": []
          },
          "execution_count": 165
        }
      ]
    },
    {
      "cell_type": "code",
      "metadata": {
        "colab": {
          "base_uri": "https://localhost:8080/",
          "height": 190
        },
        "id": "N6L5vHopyqgj",
        "outputId": "5e2dbe7b-c58c-41bd-efde-5c338ed37ad9"
      },
      "source": [
        "final_feature_cols = ['bmi', 'children', 'smoker', 'region', 'charges']\n",
        "X = X[final_feature_cols]\n",
        "#Checking Multicorrelation\n",
        "print((np.abs(X.corr())>0.7).agg('sum').sum()-len(X.columns))\n",
        "X.corr()"
      ],
      "execution_count": 166,
      "outputs": [
        {
          "output_type": "stream",
          "text": [
            "0\n"
          ],
          "name": "stdout"
        },
        {
          "output_type": "execute_result",
          "data": {
            "text/html": [
              "<div>\n",
              "<style scoped>\n",
              "    .dataframe tbody tr th:only-of-type {\n",
              "        vertical-align: middle;\n",
              "    }\n",
              "\n",
              "    .dataframe tbody tr th {\n",
              "        vertical-align: top;\n",
              "    }\n",
              "\n",
              "    .dataframe thead th {\n",
              "        text-align: right;\n",
              "    }\n",
              "</style>\n",
              "<table border=\"1\" class=\"dataframe\">\n",
              "  <thead>\n",
              "    <tr style=\"text-align: right;\">\n",
              "      <th></th>\n",
              "      <th>bmi</th>\n",
              "      <th>children</th>\n",
              "      <th>charges</th>\n",
              "      <th>charges</th>\n",
              "    </tr>\n",
              "  </thead>\n",
              "  <tbody>\n",
              "    <tr>\n",
              "      <th>bmi</th>\n",
              "      <td>1.000000</td>\n",
              "      <td>-0.033339</td>\n",
              "      <td>0.225814</td>\n",
              "      <td>0.225814</td>\n",
              "    </tr>\n",
              "    <tr>\n",
              "      <th>children</th>\n",
              "      <td>-0.033339</td>\n",
              "      <td>1.000000</td>\n",
              "      <td>0.118207</td>\n",
              "      <td>0.118207</td>\n",
              "    </tr>\n",
              "    <tr>\n",
              "      <th>charges</th>\n",
              "      <td>0.225814</td>\n",
              "      <td>0.118207</td>\n",
              "      <td>1.000000</td>\n",
              "      <td>1.000000</td>\n",
              "    </tr>\n",
              "    <tr>\n",
              "      <th>charges</th>\n",
              "      <td>0.225814</td>\n",
              "      <td>0.118207</td>\n",
              "      <td>1.000000</td>\n",
              "      <td>1.000000</td>\n",
              "    </tr>\n",
              "  </tbody>\n",
              "</table>\n",
              "</div>"
            ],
            "text/plain": [
              "               bmi  children   charges   charges\n",
              "bmi       1.000000 -0.033339  0.225814  0.225814\n",
              "children -0.033339  1.000000  0.118207  0.118207\n",
              "charges   0.225814  0.118207  1.000000  1.000000\n",
              "charges   0.225814  0.118207  1.000000  1.000000"
            ]
          },
          "metadata": {
            "tags": []
          },
          "execution_count": 166
        }
      ]
    },
    {
      "cell_type": "code",
      "metadata": {
        "colab": {
          "base_uri": "https://localhost:8080/"
        },
        "id": "qeUJx4gzzE3B",
        "outputId": "a8e07594-3bbc-4c88-b098-d462141ad4f6"
      },
      "source": [
        "from sklearn.model_selection import train_test_split\n",
        "X_train = X[:int(len(df_train)*0.8)]\n",
        "X_val = X[int(len(df_train)*0.8):]\n",
        "y_train = y[:int(len(df_train)*0.8)]\n",
        "y_val = y[int(len(df_train)*0.8):]\n",
        "print(X_train.shape)\n",
        "print(X_val.shape)"
      ],
      "execution_count": 57,
      "outputs": [
        {
          "output_type": "stream",
          "text": [
            "(244, 6)\n",
            "(62, 6)\n"
          ],
          "name": "stdout"
        }
      ]
    },
    {
      "cell_type": "markdown",
      "metadata": {
        "id": "7JidRCQ7CvT5"
      },
      "source": [
        "# **MODEL ANALYSIS**"
      ]
    },
    {
      "cell_type": "markdown",
      "metadata": {
        "id": "6FQk8QXnCxSs"
      },
      "source": [
        "Setelah dilakukan permodelan Linear Regression pada dataset insurance dapat disimpulkan bahwa nilai teta 0 dan teta 1 nya adalah 3165.885 dan 257.722. Kemudian hasil split data untuk melakukan training dan validation data adalah 244 untuk training dan 62 untuk validation. Dari hasil training untuk memprediksi charges dapat dilihat bahwa model linear regression menghasilkan hasil prediksi yang baik dengan nilai prediksi 9608.95"
      ]
    },
    {
      "cell_type": "markdown",
      "metadata": {
        "id": "hAmazsGv0PEw"
      },
      "source": [
        "# **SUPPORT VECTOR MACHINE**"
      ]
    },
    {
      "cell_type": "markdown",
      "metadata": {
        "id": "c5ySwNegzSMW"
      },
      "source": [
        "2. Buatlah model SVM untuk mengklasifikasikan tipe galaksi menggunakan dataset yang dapat diunduh di https://www.kaggle.com/saurabhshahane/galaxy-classification\n",
        "\n",
        "NOTE NOMOR 2\n",
        "\n",
        "Hanya ambil kolom C,A,S,G2,dan H untuk dijadikan feature\n",
        "Tidak perlu mengerti arti dari kolom-kolom tersebut\n",
        "Tidak perlu mengecek teori-teori atau referensi yang tidak ada kaitannya dengan data science\n",
        "0: galaksi elips, 1: galaksi spiral"
      ]
    },
    {
      "cell_type": "markdown",
      "metadata": {
        "id": "X0cB1PtD1IEM"
      },
      "source": [
        "# **IMPORT LIBRARY**"
      ]
    },
    {
      "cell_type": "code",
      "metadata": {
        "id": "j2ZaF_f51Fc8"
      },
      "source": [
        "from sklearn import svm\n",
        "import pandas as pd\n",
        "import numpy as np\n",
        "from sklearn.pipeline import Pipeline\n",
        "from sklearn.preprocessing import StandardScaler\n",
        "from sklearn.linear_model import LogisticRegression\n",
        "\n",
        "import matplotlib.pyplot as plt\n",
        "%matplotlib inline"
      ],
      "execution_count": 58,
      "outputs": []
    },
    {
      "cell_type": "code",
      "metadata": {
        "id": "K0sV33GL1RFu"
      },
      "source": [
        "import importlib, inspect"
      ],
      "execution_count": 59,
      "outputs": []
    },
    {
      "cell_type": "code",
      "metadata": {
        "colab": {
          "base_uri": "https://localhost:8080/"
        },
        "id": "Sr84yWoz1V6A",
        "outputId": "a42f36de-6e6e-4772-f86f-d433911f0642"
      },
      "source": [
        "for name, cls in inspect.getmembers(svm, inspect.isclass):\n",
        "    print(name)"
      ],
      "execution_count": 60,
      "outputs": [
        {
          "output_type": "stream",
          "text": [
            "LinearSVC\n",
            "LinearSVR\n",
            "NuSVC\n",
            "NuSVR\n",
            "OneClassSVM\n",
            "SVC\n",
            "SVR\n"
          ],
          "name": "stdout"
        }
      ]
    },
    {
      "cell_type": "code",
      "metadata": {
        "colab": {
          "base_uri": "https://localhost:8080/"
        },
        "id": "Dzv1rZa11e8V",
        "outputId": "9ef44645-be7c-4639-81ce-3800eb5d6df9"
      },
      "source": [
        "from sklearn.svm import SVC\n",
        "SVC(C=1.0, kernel='rbf', degree=3, gamma='scale', coef0=0.0, shrinking=True, \n",
        "probability=False, tol=0.001, cache_size=200, class_weight=None, \n",
        "verbose=False, max_iter=- 1, decision_function_shape='ovr', break_ties=False, random_state=None)"
      ],
      "execution_count": 62,
      "outputs": [
        {
          "output_type": "execute_result",
          "data": {
            "text/plain": [
              "SVC(C=1.0, break_ties=False, cache_size=200, class_weight=None, coef0=0.0,\n",
              "    decision_function_shape='ovr', degree=3, gamma='scale', kernel='rbf',\n",
              "    max_iter=-1, probability=False, random_state=None, shrinking=True,\n",
              "    tol=0.001, verbose=False)"
            ]
          },
          "metadata": {
            "tags": []
          },
          "execution_count": 62
        }
      ]
    },
    {
      "cell_type": "code",
      "metadata": {
        "colab": {
          "base_uri": "https://localhost:8080/",
          "height": 35
        },
        "id": "53ZYGTf01pkI",
        "outputId": "0e72e4c1-e04a-4467-e6e9-f1715c138bd9"
      },
      "source": [
        "import sklearn\n",
        "sklearn.__version__"
      ],
      "execution_count": 63,
      "outputs": [
        {
          "output_type": "execute_result",
          "data": {
            "application/vnd.google.colaboratory.intrinsic+json": {
              "type": "string"
            },
            "text/plain": [
              "'0.22.2.post1'"
            ]
          },
          "metadata": {
            "tags": []
          },
          "execution_count": 63
        }
      ]
    },
    {
      "cell_type": "markdown",
      "metadata": {
        "id": "cBluv4FA1u-h"
      },
      "source": [
        "# **DATA LOADING**"
      ]
    },
    {
      "cell_type": "code",
      "metadata": {
        "id": "qa6ztORe0Kqy"
      },
      "source": [
        "import pandas as pd\n",
        "data = pd.read_csv('galaxy.csv')"
      ],
      "execution_count": 64,
      "outputs": []
    },
    {
      "cell_type": "code",
      "metadata": {
        "colab": {
          "base_uri": "https://localhost:8080/",
          "height": 204
        },
        "id": "a7UrSsBb1z6e",
        "outputId": "dc7294d5-7111-42b9-eb16-311c6642a459"
      },
      "source": [
        "data.head(5)"
      ],
      "execution_count": 65,
      "outputs": [
        {
          "output_type": "execute_result",
          "data": {
            "text/html": [
              "<div>\n",
              "<style scoped>\n",
              "    .dataframe tbody tr th:only-of-type {\n",
              "        vertical-align: middle;\n",
              "    }\n",
              "\n",
              "    .dataframe tbody tr th {\n",
              "        vertical-align: top;\n",
              "    }\n",
              "\n",
              "    .dataframe thead th {\n",
              "        text-align: right;\n",
              "    }\n",
              "</style>\n",
              "<table border=\"1\" class=\"dataframe\">\n",
              "  <thead>\n",
              "    <tr style=\"text-align: right;\">\n",
              "      <th></th>\n",
              "      <th>Unnamed: 0</th>\n",
              "      <th>TType</th>\n",
              "      <th>K</th>\n",
              "      <th>C</th>\n",
              "      <th>A</th>\n",
              "      <th>S</th>\n",
              "      <th>G2</th>\n",
              "      <th>H</th>\n",
              "      <th>CNN2classes1stClass</th>\n",
              "    </tr>\n",
              "  </thead>\n",
              "  <tbody>\n",
              "    <tr>\n",
              "      <th>0</th>\n",
              "      <td>0</td>\n",
              "      <td>1.854829</td>\n",
              "      <td>6.560199</td>\n",
              "      <td>0.357051</td>\n",
              "      <td>0.932151</td>\n",
              "      <td>0.850992</td>\n",
              "      <td>1.588183</td>\n",
              "      <td>0.697214</td>\n",
              "      <td>1</td>\n",
              "    </tr>\n",
              "    <tr>\n",
              "      <th>1</th>\n",
              "      <td>1</td>\n",
              "      <td>4.815538</td>\n",
              "      <td>25.950829</td>\n",
              "      <td>0.313292</td>\n",
              "      <td>0.610999</td>\n",
              "      <td>0.723122</td>\n",
              "      <td>1.533653</td>\n",
              "      <td>0.719412</td>\n",
              "      <td>1</td>\n",
              "    </tr>\n",
              "    <tr>\n",
              "      <th>2</th>\n",
              "      <td>2</td>\n",
              "      <td>0.678056</td>\n",
              "      <td>6.867416</td>\n",
              "      <td>0.408286</td>\n",
              "      <td>0.881524</td>\n",
              "      <td>0.813231</td>\n",
              "      <td>1.743747</td>\n",
              "      <td>0.750872</td>\n",
              "      <td>1</td>\n",
              "    </tr>\n",
              "    <tr>\n",
              "      <th>3</th>\n",
              "      <td>3</td>\n",
              "      <td>-0.547708</td>\n",
              "      <td>11.877941</td>\n",
              "      <td>-9999.999999</td>\n",
              "      <td>0.838779</td>\n",
              "      <td>0.816965</td>\n",
              "      <td>1.672529</td>\n",
              "      <td>0.771995</td>\n",
              "      <td>1</td>\n",
              "    </tr>\n",
              "    <tr>\n",
              "      <th>4</th>\n",
              "      <td>4</td>\n",
              "      <td>2.028543</td>\n",
              "      <td>20.458965</td>\n",
              "      <td>0.446453</td>\n",
              "      <td>0.839216</td>\n",
              "      <td>0.801140</td>\n",
              "      <td>1.107665</td>\n",
              "      <td>0.610453</td>\n",
              "      <td>1</td>\n",
              "    </tr>\n",
              "  </tbody>\n",
              "</table>\n",
              "</div>"
            ],
            "text/plain": [
              "   Unnamed: 0     TType          K  ...        G2         H  CNN2classes1stClass\n",
              "0           0  1.854829   6.560199  ...  1.588183  0.697214                    1\n",
              "1           1  4.815538  25.950829  ...  1.533653  0.719412                    1\n",
              "2           2  0.678056   6.867416  ...  1.743747  0.750872                    1\n",
              "3           3 -0.547708  11.877941  ...  1.672529  0.771995                    1\n",
              "4           4  2.028543  20.458965  ...  1.107665  0.610453                    1\n",
              "\n",
              "[5 rows x 9 columns]"
            ]
          },
          "metadata": {
            "tags": []
          },
          "execution_count": 65
        }
      ]
    },
    {
      "cell_type": "code",
      "metadata": {
        "colab": {
          "base_uri": "https://localhost:8080/"
        },
        "id": "8xjIYZB115Ws",
        "outputId": "849e7341-04bc-4a65-d91b-b1b264c3ebf5"
      },
      "source": [
        "print(data.shape)"
      ],
      "execution_count": 66,
      "outputs": [
        {
          "output_type": "stream",
          "text": [
            "(20000, 9)\n"
          ],
          "name": "stdout"
        }
      ]
    },
    {
      "cell_type": "markdown",
      "metadata": {
        "id": "hiwP9yxN2IGf"
      },
      "source": [
        "# **DATA EXPLORATION**"
      ]
    },
    {
      "cell_type": "code",
      "metadata": {
        "colab": {
          "base_uri": "https://localhost:8080/"
        },
        "id": "QHYnQ1CO3cT6",
        "outputId": "2fd528c9-d826-45c6-d412-f22d4dc2487a"
      },
      "source": [
        "len(data)"
      ],
      "execution_count": 68,
      "outputs": [
        {
          "output_type": "execute_result",
          "data": {
            "text/plain": [
              "20000"
            ]
          },
          "metadata": {
            "tags": []
          },
          "execution_count": 68
        }
      ]
    },
    {
      "cell_type": "code",
      "metadata": {
        "colab": {
          "base_uri": "https://localhost:8080/"
        },
        "id": "Da3-tETg3ksf",
        "outputId": "fdc9441a-2161-4531-f731-d2c0b2f4f6d4"
      },
      "source": [
        "data.info()"
      ],
      "execution_count": 69,
      "outputs": [
        {
          "output_type": "stream",
          "text": [
            "<class 'pandas.core.frame.DataFrame'>\n",
            "RangeIndex: 20000 entries, 0 to 19999\n",
            "Data columns (total 9 columns):\n",
            " #   Column               Non-Null Count  Dtype  \n",
            "---  ------               --------------  -----  \n",
            " 0   Unnamed: 0           20000 non-null  int64  \n",
            " 1   TType                20000 non-null  float64\n",
            " 2   K                    20000 non-null  float64\n",
            " 3   C                    20000 non-null  float64\n",
            " 4   A                    20000 non-null  float64\n",
            " 5   S                    20000 non-null  float64\n",
            " 6   G2                   20000 non-null  float64\n",
            " 7   H                    20000 non-null  float64\n",
            " 8   CNN2classes1stClass  20000 non-null  int64  \n",
            "dtypes: float64(7), int64(2)\n",
            "memory usage: 1.4 MB\n"
          ],
          "name": "stdout"
        }
      ]
    },
    {
      "cell_type": "code",
      "metadata": {
        "colab": {
          "base_uri": "https://localhost:8080/",
          "height": 317
        },
        "id": "MRFZugGE3nIs",
        "outputId": "abec34ed-6f1a-49d9-f165-45290bac36bb"
      },
      "source": [
        "data.describe()"
      ],
      "execution_count": 70,
      "outputs": [
        {
          "output_type": "execute_result",
          "data": {
            "text/html": [
              "<div>\n",
              "<style scoped>\n",
              "    .dataframe tbody tr th:only-of-type {\n",
              "        vertical-align: middle;\n",
              "    }\n",
              "\n",
              "    .dataframe tbody tr th {\n",
              "        vertical-align: top;\n",
              "    }\n",
              "\n",
              "    .dataframe thead th {\n",
              "        text-align: right;\n",
              "    }\n",
              "</style>\n",
              "<table border=\"1\" class=\"dataframe\">\n",
              "  <thead>\n",
              "    <tr style=\"text-align: right;\">\n",
              "      <th></th>\n",
              "      <th>Unnamed: 0</th>\n",
              "      <th>TType</th>\n",
              "      <th>K</th>\n",
              "      <th>C</th>\n",
              "      <th>A</th>\n",
              "      <th>S</th>\n",
              "      <th>G2</th>\n",
              "      <th>H</th>\n",
              "      <th>CNN2classes1stClass</th>\n",
              "    </tr>\n",
              "  </thead>\n",
              "  <tbody>\n",
              "    <tr>\n",
              "      <th>count</th>\n",
              "      <td>20000.000000</td>\n",
              "      <td>20000.000000</td>\n",
              "      <td>20000.000000</td>\n",
              "      <td>20000.000000</td>\n",
              "      <td>20000.000000</td>\n",
              "      <td>20000.000000</td>\n",
              "      <td>20000.000000</td>\n",
              "      <td>20000.000000</td>\n",
              "      <td>20000.000000</td>\n",
              "    </tr>\n",
              "    <tr>\n",
              "      <th>mean</th>\n",
              "      <td>9999.500000</td>\n",
              "      <td>0.395287</td>\n",
              "      <td>18.708788</td>\n",
              "      <td>-1846.175115</td>\n",
              "      <td>0.323992</td>\n",
              "      <td>-3.220560</td>\n",
              "      <td>0.747130</td>\n",
              "      <td>0.655137</td>\n",
              "      <td>0.807200</td>\n",
              "    </tr>\n",
              "    <tr>\n",
              "      <th>std</th>\n",
              "      <td>5773.647028</td>\n",
              "      <td>2.432726</td>\n",
              "      <td>26.185899</td>\n",
              "      <td>3880.385347</td>\n",
              "      <td>70.716614</td>\n",
              "      <td>199.980672</td>\n",
              "      <td>70.720857</td>\n",
              "      <td>0.113237</td>\n",
              "      <td>0.394507</td>\n",
              "    </tr>\n",
              "    <tr>\n",
              "      <th>min</th>\n",
              "      <td>0.000000</td>\n",
              "      <td>-2.913205</td>\n",
              "      <td>1.471492</td>\n",
              "      <td>-9999.999999</td>\n",
              "      <td>-9999.999999</td>\n",
              "      <td>-9999.999999</td>\n",
              "      <td>-9999.999999</td>\n",
              "      <td>0.017008</td>\n",
              "      <td>0.000000</td>\n",
              "    </tr>\n",
              "    <tr>\n",
              "      <th>25%</th>\n",
              "      <td>4999.750000</td>\n",
              "      <td>-1.952929</td>\n",
              "      <td>7.039827</td>\n",
              "      <td>0.292831</td>\n",
              "      <td>0.782718</td>\n",
              "      <td>0.757618</td>\n",
              "      <td>0.979765</td>\n",
              "      <td>0.585356</td>\n",
              "      <td>1.000000</td>\n",
              "    </tr>\n",
              "    <tr>\n",
              "      <th>50%</th>\n",
              "      <td>9999.500000</td>\n",
              "      <td>-0.071197</td>\n",
              "      <td>11.781205</td>\n",
              "      <td>0.365902</td>\n",
              "      <td>0.859172</td>\n",
              "      <td>0.844121</td>\n",
              "      <td>1.364905</td>\n",
              "      <td>0.659603</td>\n",
              "      <td>1.000000</td>\n",
              "    </tr>\n",
              "    <tr>\n",
              "      <th>75%</th>\n",
              "      <td>14999.250000</td>\n",
              "      <td>2.376115</td>\n",
              "      <td>20.920884</td>\n",
              "      <td>0.437227</td>\n",
              "      <td>0.905404</td>\n",
              "      <td>0.889421</td>\n",
              "      <td>1.606039</td>\n",
              "      <td>0.743029</td>\n",
              "      <td>1.000000</td>\n",
              "    </tr>\n",
              "    <tr>\n",
              "      <th>max</th>\n",
              "      <td>19999.000000</td>\n",
              "      <td>7.773612</td>\n",
              "      <td>1035.467764</td>\n",
              "      <td>0.761184</td>\n",
              "      <td>0.986535</td>\n",
              "      <td>0.979032</td>\n",
              "      <td>1.953389</td>\n",
              "      <td>0.929947</td>\n",
              "      <td>1.000000</td>\n",
              "    </tr>\n",
              "  </tbody>\n",
              "</table>\n",
              "</div>"
            ],
            "text/plain": [
              "         Unnamed: 0         TType  ...             H  CNN2classes1stClass\n",
              "count  20000.000000  20000.000000  ...  20000.000000         20000.000000\n",
              "mean    9999.500000      0.395287  ...      0.655137             0.807200\n",
              "std     5773.647028      2.432726  ...      0.113237             0.394507\n",
              "min        0.000000     -2.913205  ...      0.017008             0.000000\n",
              "25%     4999.750000     -1.952929  ...      0.585356             1.000000\n",
              "50%     9999.500000     -0.071197  ...      0.659603             1.000000\n",
              "75%    14999.250000      2.376115  ...      0.743029             1.000000\n",
              "max    19999.000000      7.773612  ...      0.929947             1.000000\n",
              "\n",
              "[8 rows x 9 columns]"
            ]
          },
          "metadata": {
            "tags": []
          },
          "execution_count": 70
        }
      ]
    },
    {
      "cell_type": "code",
      "metadata": {
        "colab": {
          "base_uri": "https://localhost:8080/"
        },
        "id": "0STgduUM2KQo",
        "outputId": "de75e243-8228-4ac9-e18c-f7aafbeb7f0c"
      },
      "source": [
        "data.columns"
      ],
      "execution_count": 67,
      "outputs": [
        {
          "output_type": "execute_result",
          "data": {
            "text/plain": [
              "Index(['Unnamed: 0', 'TType', 'K', 'C', 'A', 'S', 'G2', 'H',\n",
              "       'CNN2classes1stClass'],\n",
              "      dtype='object')"
            ]
          },
          "metadata": {
            "tags": []
          },
          "execution_count": 67
        }
      ]
    },
    {
      "cell_type": "markdown",
      "metadata": {
        "id": "1zG6m_VK_jTc"
      },
      "source": [
        "# **EDA**"
      ]
    },
    {
      "cell_type": "code",
      "metadata": {
        "colab": {
          "base_uri": "https://localhost:8080/"
        },
        "id": "st17PRtY_k-w",
        "outputId": "750cb9a3-7de3-4309-cb51-da8d4566ba69"
      },
      "source": [
        "data['C']"
      ],
      "execution_count": 122,
      "outputs": [
        {
          "output_type": "execute_result",
          "data": {
            "text/plain": [
              "0           0.357051\n",
              "1           0.313292\n",
              "2           0.408286\n",
              "3       -9999.999999\n",
              "4           0.446453\n",
              "            ...     \n",
              "19995       0.358020\n",
              "19996       0.470026\n",
              "19997       0.323334\n",
              "19998       0.393574\n",
              "19999       0.346322\n",
              "Name: C, Length: 20000, dtype: float64"
            ]
          },
          "metadata": {
            "tags": []
          },
          "execution_count": 122
        }
      ]
    },
    {
      "cell_type": "code",
      "metadata": {
        "colab": {
          "base_uri": "https://localhost:8080/"
        },
        "id": "IujGP_q0AuPr",
        "outputId": "435c3eaf-4fa6-488e-a54b-9bcbfc41837b"
      },
      "source": [
        "data['C'].mean"
      ],
      "execution_count": 128,
      "outputs": [
        {
          "output_type": "execute_result",
          "data": {
            "text/plain": [
              "<bound method Series.mean of 0           0.357051\n",
              "1           0.313292\n",
              "2           0.408286\n",
              "3       -9999.999999\n",
              "4           0.446453\n",
              "            ...     \n",
              "19995       0.358020\n",
              "19996       0.470026\n",
              "19997       0.323334\n",
              "19998       0.393574\n",
              "19999       0.346322\n",
              "Name: C, Length: 20000, dtype: float64>"
            ]
          },
          "metadata": {
            "tags": []
          },
          "execution_count": 128
        }
      ]
    },
    {
      "cell_type": "code",
      "metadata": {
        "colab": {
          "base_uri": "https://localhost:8080/"
        },
        "id": "AmGNi2Dq_pNX",
        "outputId": "ebcb48a7-5794-4ac9-8644-7bfdd0685d50"
      },
      "source": [
        "data['A']"
      ],
      "execution_count": 123,
      "outputs": [
        {
          "output_type": "execute_result",
          "data": {
            "text/plain": [
              "0        0.932151\n",
              "1        0.610999\n",
              "2        0.881524\n",
              "3        0.838779\n",
              "4        0.839216\n",
              "           ...   \n",
              "19995    0.602471\n",
              "19996    0.842624\n",
              "19997    0.830340\n",
              "19998    0.632766\n",
              "19999    0.878231\n",
              "Name: A, Length: 20000, dtype: float64"
            ]
          },
          "metadata": {
            "tags": []
          },
          "execution_count": 123
        }
      ]
    },
    {
      "cell_type": "code",
      "metadata": {
        "colab": {
          "base_uri": "https://localhost:8080/"
        },
        "id": "AJuRAz7YAzDU",
        "outputId": "f05cc8d7-50ec-44b0-aa8e-c65033fa95c3"
      },
      "source": [
        "data['A'].mean"
      ],
      "execution_count": 129,
      "outputs": [
        {
          "output_type": "execute_result",
          "data": {
            "text/plain": [
              "<bound method Series.mean of 0        0.932151\n",
              "1        0.610999\n",
              "2        0.881524\n",
              "3        0.838779\n",
              "4        0.839216\n",
              "           ...   \n",
              "19995    0.602471\n",
              "19996    0.842624\n",
              "19997    0.830340\n",
              "19998    0.632766\n",
              "19999    0.878231\n",
              "Name: A, Length: 20000, dtype: float64>"
            ]
          },
          "metadata": {
            "tags": []
          },
          "execution_count": 129
        }
      ]
    },
    {
      "cell_type": "code",
      "metadata": {
        "colab": {
          "base_uri": "https://localhost:8080/"
        },
        "id": "4y5Mf3YX_tP4",
        "outputId": "c1a6ea11-d3ba-43d5-b70b-99fb9716649a"
      },
      "source": [
        "data['S']"
      ],
      "execution_count": 124,
      "outputs": [
        {
          "output_type": "execute_result",
          "data": {
            "text/plain": [
              "0        0.850992\n",
              "1        0.723122\n",
              "2        0.813231\n",
              "3        0.816965\n",
              "4        0.801140\n",
              "           ...   \n",
              "19995    0.832848\n",
              "19996    0.868289\n",
              "19997    0.950820\n",
              "19998    0.825990\n",
              "19999    0.882251\n",
              "Name: S, Length: 20000, dtype: float64"
            ]
          },
          "metadata": {
            "tags": []
          },
          "execution_count": 124
        }
      ]
    },
    {
      "cell_type": "code",
      "metadata": {
        "colab": {
          "base_uri": "https://localhost:8080/"
        },
        "id": "APt9CknzA3lQ",
        "outputId": "79e2c586-47b1-4e51-c265-f108f25fe249"
      },
      "source": [
        "data['S'].mean"
      ],
      "execution_count": 130,
      "outputs": [
        {
          "output_type": "execute_result",
          "data": {
            "text/plain": [
              "<bound method Series.mean of 0        0.850992\n",
              "1        0.723122\n",
              "2        0.813231\n",
              "3        0.816965\n",
              "4        0.801140\n",
              "           ...   \n",
              "19995    0.832848\n",
              "19996    0.868289\n",
              "19997    0.950820\n",
              "19998    0.825990\n",
              "19999    0.882251\n",
              "Name: S, Length: 20000, dtype: float64>"
            ]
          },
          "metadata": {
            "tags": []
          },
          "execution_count": 130
        }
      ]
    },
    {
      "cell_type": "code",
      "metadata": {
        "colab": {
          "base_uri": "https://localhost:8080/"
        },
        "id": "DEoi2ERu_1Go",
        "outputId": "96973088-da87-4c15-dc4c-c34f8306c0a2"
      },
      "source": [
        "data['G2']"
      ],
      "execution_count": 125,
      "outputs": [
        {
          "output_type": "execute_result",
          "data": {
            "text/plain": [
              "0        1.588183\n",
              "1        1.533653\n",
              "2        1.743747\n",
              "3        1.672529\n",
              "4        1.107665\n",
              "           ...   \n",
              "19995    1.611594\n",
              "19996    1.313089\n",
              "19997    1.406042\n",
              "19998    1.659363\n",
              "19999    1.616493\n",
              "Name: G2, Length: 20000, dtype: float64"
            ]
          },
          "metadata": {
            "tags": []
          },
          "execution_count": 125
        }
      ]
    },
    {
      "cell_type": "code",
      "metadata": {
        "colab": {
          "base_uri": "https://localhost:8080/"
        },
        "id": "W3BKY77CA8aX",
        "outputId": "1ee85b98-8fd8-4bbd-c4c1-3a917e4bdf2d"
      },
      "source": [
        "data['G2'].mean"
      ],
      "execution_count": 132,
      "outputs": [
        {
          "output_type": "execute_result",
          "data": {
            "text/plain": [
              "<bound method Series.mean of 0        1.588183\n",
              "1        1.533653\n",
              "2        1.743747\n",
              "3        1.672529\n",
              "4        1.107665\n",
              "           ...   \n",
              "19995    1.611594\n",
              "19996    1.313089\n",
              "19997    1.406042\n",
              "19998    1.659363\n",
              "19999    1.616493\n",
              "Name: G2, Length: 20000, dtype: float64>"
            ]
          },
          "metadata": {
            "tags": []
          },
          "execution_count": 132
        }
      ]
    },
    {
      "cell_type": "code",
      "metadata": {
        "colab": {
          "base_uri": "https://localhost:8080/"
        },
        "id": "ysDSIsnk_5fS",
        "outputId": "25968d35-cd5d-4073-974b-402995380f16"
      },
      "source": [
        "data['H']"
      ],
      "execution_count": 126,
      "outputs": [
        {
          "output_type": "execute_result",
          "data": {
            "text/plain": [
              "0        0.697214\n",
              "1        0.719412\n",
              "2        0.750872\n",
              "3        0.771995\n",
              "4        0.610453\n",
              "           ...   \n",
              "19995    0.735315\n",
              "19996    0.649996\n",
              "19997    0.671217\n",
              "19998    0.379448\n",
              "19999    0.738060\n",
              "Name: H, Length: 20000, dtype: float64"
            ]
          },
          "metadata": {
            "tags": []
          },
          "execution_count": 126
        }
      ]
    },
    {
      "cell_type": "code",
      "metadata": {
        "colab": {
          "base_uri": "https://localhost:8080/"
        },
        "id": "Nl-GJ5seBDhC",
        "outputId": "6adca42e-a699-4813-9648-264c7a45d384"
      },
      "source": [
        "data['H'].mean"
      ],
      "execution_count": 133,
      "outputs": [
        {
          "output_type": "execute_result",
          "data": {
            "text/plain": [
              "<bound method Series.mean of 0        0.697214\n",
              "1        0.719412\n",
              "2        0.750872\n",
              "3        0.771995\n",
              "4        0.610453\n",
              "           ...   \n",
              "19995    0.735315\n",
              "19996    0.649996\n",
              "19997    0.671217\n",
              "19998    0.379448\n",
              "19999    0.738060\n",
              "Name: H, Length: 20000, dtype: float64>"
            ]
          },
          "metadata": {
            "tags": []
          },
          "execution_count": 133
        }
      ]
    },
    {
      "cell_type": "code",
      "metadata": {
        "colab": {
          "base_uri": "https://localhost:8080/"
        },
        "id": "0Aa2hffA__2k",
        "outputId": "cbac5e27-b59d-4e0f-f6da-0f882e9bd614"
      },
      "source": [
        "data['CNN2classes1stClass']"
      ],
      "execution_count": 127,
      "outputs": [
        {
          "output_type": "execute_result",
          "data": {
            "text/plain": [
              "0        1\n",
              "1        1\n",
              "2        1\n",
              "3        1\n",
              "4        1\n",
              "        ..\n",
              "19995    1\n",
              "19996    1\n",
              "19997    1\n",
              "19998    1\n",
              "19999    1\n",
              "Name: CNN2classes1stClass, Length: 20000, dtype: int64"
            ]
          },
          "metadata": {
            "tags": []
          },
          "execution_count": 127
        }
      ]
    },
    {
      "cell_type": "code",
      "metadata": {
        "colab": {
          "base_uri": "https://localhost:8080/"
        },
        "id": "cMX1PnvNBGyj",
        "outputId": "5b2d92be-341d-4de3-fe84-da85716c1754"
      },
      "source": [
        "data['CNN2classes1stClass'].mode"
      ],
      "execution_count": 134,
      "outputs": [
        {
          "output_type": "execute_result",
          "data": {
            "text/plain": [
              "<bound method Series.mode of 0        1\n",
              "1        1\n",
              "2        1\n",
              "3        1\n",
              "4        1\n",
              "        ..\n",
              "19995    1\n",
              "19996    1\n",
              "19997    1\n",
              "19998    1\n",
              "19999    1\n",
              "Name: CNN2classes1stClass, Length: 20000, dtype: int64>"
            ]
          },
          "metadata": {
            "tags": []
          },
          "execution_count": 134
        }
      ]
    },
    {
      "cell_type": "markdown",
      "metadata": {
        "id": "rw1bVM-kAGRB"
      },
      "source": [
        "# **EDA ANALYSIS**"
      ]
    },
    {
      "cell_type": "markdown",
      "metadata": {
        "id": "OglWYueYAI7D"
      },
      "source": [
        "Setelah dilakukan eksplorasi data pada data set, terdapat kolom C, A, S, G2, H dengan mean masing-masing adalah 0.357051, 0.932151, 0.850992, 1.588183, 0.697214 dan dua klasifikasi yaitu 0 dan 1 dimana 0 adalah galaksi elips dan 1 adalah galaksi spiral dimana kelas 1 atau galaksi spiral merupakan nilai modus"
      ]
    },
    {
      "cell_type": "markdown",
      "metadata": {
        "id": "Cs3tVq2d3uo2"
      },
      "source": [
        "# **DATA TRANSFORMATION**"
      ]
    },
    {
      "cell_type": "code",
      "metadata": {
        "id": "I_4jHqE73xek"
      },
      "source": [
        "feature_cols = ['C','A','S','G2','H']\n",
        "df_train = data\n",
        "X = df_train[feature_cols]\n",
        "y = df_train['CNN2classes1stClass']"
      ],
      "execution_count": 71,
      "outputs": []
    },
    {
      "cell_type": "markdown",
      "metadata": {
        "id": "0NaFlmK14u8t"
      },
      "source": [
        "# **SPLIT DATA**"
      ]
    },
    {
      "cell_type": "code",
      "metadata": {
        "id": "uO-wiGPE4w2z"
      },
      "source": [
        "from sklearn.model_selection import train_test_split\n",
        "X_train, X_test, y_train, y_test = train_test_split(X, y, test_size=0.1, random_state=69, stratify=y)"
      ],
      "execution_count": 72,
      "outputs": []
    },
    {
      "cell_type": "code",
      "metadata": {
        "id": "zWDhdqAL4w_T"
      },
      "source": [
        "from sklearn.model_selection import train_test_split\n",
        "X_train, X_val, y_train, y_val = train_test_split(X_train, y_train, test_size=2/9, random_state=69, stratify=y_train)"
      ],
      "execution_count": 73,
      "outputs": []
    },
    {
      "cell_type": "code",
      "metadata": {
        "colab": {
          "base_uri": "https://localhost:8080/"
        },
        "id": "Bs8rRaKC46b4",
        "outputId": "6e4a9765-2300-416c-8294-cf1d42d41d24"
      },
      "source": [
        "X_train.shape"
      ],
      "execution_count": 74,
      "outputs": [
        {
          "output_type": "execute_result",
          "data": {
            "text/plain": [
              "(14000, 5)"
            ]
          },
          "metadata": {
            "tags": []
          },
          "execution_count": 74
        }
      ]
    },
    {
      "cell_type": "code",
      "metadata": {
        "colab": {
          "base_uri": "https://localhost:8080/"
        },
        "id": "_ZdgVRwK49jF",
        "outputId": "adfe4c40-6138-405d-b9e3-1308f7e7bc93"
      },
      "source": [
        "X_val.shape"
      ],
      "execution_count": 75,
      "outputs": [
        {
          "output_type": "execute_result",
          "data": {
            "text/plain": [
              "(4000, 5)"
            ]
          },
          "metadata": {
            "tags": []
          },
          "execution_count": 75
        }
      ]
    },
    {
      "cell_type": "code",
      "metadata": {
        "colab": {
          "base_uri": "https://localhost:8080/"
        },
        "id": "Xj3TmzLI5C_A",
        "outputId": "74588880-abd5-4df5-9994-158800880d0a"
      },
      "source": [
        "X_test.shape"
      ],
      "execution_count": 76,
      "outputs": [
        {
          "output_type": "execute_result",
          "data": {
            "text/plain": [
              "(2000, 5)"
            ]
          },
          "metadata": {
            "tags": []
          },
          "execution_count": 76
        }
      ]
    },
    {
      "cell_type": "code",
      "metadata": {
        "colab": {
          "base_uri": "https://localhost:8080/"
        },
        "id": "sc1b3Rsk5IHy",
        "outputId": "e58d504b-bfc4-4605-f5d4-0d2d24f56c36"
      },
      "source": [
        "4000/len(X)"
      ],
      "execution_count": 77,
      "outputs": [
        {
          "output_type": "execute_result",
          "data": {
            "text/plain": [
              "0.2"
            ]
          },
          "metadata": {
            "tags": []
          },
          "execution_count": 77
        }
      ]
    },
    {
      "cell_type": "code",
      "metadata": {
        "colab": {
          "base_uri": "https://localhost:8080/"
        },
        "id": "8OynRGdd5LB3",
        "outputId": "925e1d73-9ebe-4d11-af49-7216c9436b42"
      },
      "source": [
        "14000/len(X)"
      ],
      "execution_count": 78,
      "outputs": [
        {
          "output_type": "execute_result",
          "data": {
            "text/plain": [
              "0.7"
            ]
          },
          "metadata": {
            "tags": []
          },
          "execution_count": 78
        }
      ]
    },
    {
      "cell_type": "markdown",
      "metadata": {
        "id": "x1-7HRwo5QNw"
      },
      "source": [
        "# **MODELLING**"
      ]
    },
    {
      "cell_type": "code",
      "metadata": {
        "id": "n5F0xH5i5SJ8"
      },
      "source": [
        "scaler = StandardScaler()\n",
        "scaler.fit(X_train)\n",
        "X_train_trf = scaler.transform(X_train) "
      ],
      "execution_count": 79,
      "outputs": []
    },
    {
      "cell_type": "code",
      "metadata": {
        "colab": {
          "base_uri": "https://localhost:8080/",
          "height": 419
        },
        "id": "qrU0mKPo5idG",
        "outputId": "56fe13bd-4957-482a-9669-17303099a331"
      },
      "source": [
        "X_train"
      ],
      "execution_count": 80,
      "outputs": [
        {
          "output_type": "execute_result",
          "data": {
            "text/html": [
              "<div>\n",
              "<style scoped>\n",
              "    .dataframe tbody tr th:only-of-type {\n",
              "        vertical-align: middle;\n",
              "    }\n",
              "\n",
              "    .dataframe tbody tr th {\n",
              "        vertical-align: top;\n",
              "    }\n",
              "\n",
              "    .dataframe thead th {\n",
              "        text-align: right;\n",
              "    }\n",
              "</style>\n",
              "<table border=\"1\" class=\"dataframe\">\n",
              "  <thead>\n",
              "    <tr style=\"text-align: right;\">\n",
              "      <th></th>\n",
              "      <th>C</th>\n",
              "      <th>A</th>\n",
              "      <th>S</th>\n",
              "      <th>G2</th>\n",
              "      <th>H</th>\n",
              "    </tr>\n",
              "  </thead>\n",
              "  <tbody>\n",
              "    <tr>\n",
              "      <th>16241</th>\n",
              "      <td>0.299536</td>\n",
              "      <td>0.824898</td>\n",
              "      <td>0.733127</td>\n",
              "      <td>1.522367</td>\n",
              "      <td>0.676358</td>\n",
              "    </tr>\n",
              "    <tr>\n",
              "      <th>15402</th>\n",
              "      <td>0.335346</td>\n",
              "      <td>0.794948</td>\n",
              "      <td>0.828772</td>\n",
              "      <td>1.606013</td>\n",
              "      <td>0.724018</td>\n",
              "    </tr>\n",
              "    <tr>\n",
              "      <th>1205</th>\n",
              "      <td>0.406631</td>\n",
              "      <td>0.926740</td>\n",
              "      <td>0.766199</td>\n",
              "      <td>1.488406</td>\n",
              "      <td>0.692385</td>\n",
              "    </tr>\n",
              "    <tr>\n",
              "      <th>17356</th>\n",
              "      <td>0.471838</td>\n",
              "      <td>0.610190</td>\n",
              "      <td>0.460038</td>\n",
              "      <td>0.743984</td>\n",
              "      <td>0.511590</td>\n",
              "    </tr>\n",
              "    <tr>\n",
              "      <th>18094</th>\n",
              "      <td>0.348278</td>\n",
              "      <td>0.898585</td>\n",
              "      <td>0.901015</td>\n",
              "      <td>1.662286</td>\n",
              "      <td>0.721478</td>\n",
              "    </tr>\n",
              "    <tr>\n",
              "      <th>...</th>\n",
              "      <td>...</td>\n",
              "      <td>...</td>\n",
              "      <td>...</td>\n",
              "      <td>...</td>\n",
              "      <td>...</td>\n",
              "    </tr>\n",
              "    <tr>\n",
              "      <th>10937</th>\n",
              "      <td>-9999.999999</td>\n",
              "      <td>0.875863</td>\n",
              "      <td>0.396983</td>\n",
              "      <td>0.586817</td>\n",
              "      <td>0.510346</td>\n",
              "    </tr>\n",
              "    <tr>\n",
              "      <th>12035</th>\n",
              "      <td>0.417022</td>\n",
              "      <td>0.858027</td>\n",
              "      <td>0.777065</td>\n",
              "      <td>1.448778</td>\n",
              "      <td>0.621649</td>\n",
              "    </tr>\n",
              "    <tr>\n",
              "      <th>6880</th>\n",
              "      <td>0.358840</td>\n",
              "      <td>0.755118</td>\n",
              "      <td>0.698821</td>\n",
              "      <td>1.148853</td>\n",
              "      <td>0.625187</td>\n",
              "    </tr>\n",
              "    <tr>\n",
              "      <th>19025</th>\n",
              "      <td>0.419034</td>\n",
              "      <td>0.769456</td>\n",
              "      <td>0.843583</td>\n",
              "      <td>1.670428</td>\n",
              "      <td>0.728034</td>\n",
              "    </tr>\n",
              "    <tr>\n",
              "      <th>30</th>\n",
              "      <td>-9999.999999</td>\n",
              "      <td>0.882801</td>\n",
              "      <td>0.945958</td>\n",
              "      <td>1.074222</td>\n",
              "      <td>0.633189</td>\n",
              "    </tr>\n",
              "  </tbody>\n",
              "</table>\n",
              "<p>14000 rows × 5 columns</p>\n",
              "</div>"
            ],
            "text/plain": [
              "                 C         A         S        G2         H\n",
              "16241     0.299536  0.824898  0.733127  1.522367  0.676358\n",
              "15402     0.335346  0.794948  0.828772  1.606013  0.724018\n",
              "1205      0.406631  0.926740  0.766199  1.488406  0.692385\n",
              "17356     0.471838  0.610190  0.460038  0.743984  0.511590\n",
              "18094     0.348278  0.898585  0.901015  1.662286  0.721478\n",
              "...            ...       ...       ...       ...       ...\n",
              "10937 -9999.999999  0.875863  0.396983  0.586817  0.510346\n",
              "12035     0.417022  0.858027  0.777065  1.448778  0.621649\n",
              "6880      0.358840  0.755118  0.698821  1.148853  0.625187\n",
              "19025     0.419034  0.769456  0.843583  1.670428  0.728034\n",
              "30    -9999.999999  0.882801  0.945958  1.074222  0.633189\n",
              "\n",
              "[14000 rows x 5 columns]"
            ]
          },
          "metadata": {
            "tags": []
          },
          "execution_count": 80
        }
      ]
    },
    {
      "cell_type": "code",
      "metadata": {
        "colab": {
          "base_uri": "https://localhost:8080/"
        },
        "id": "Itnu8za65qs-",
        "outputId": "daa1a178-9e62-4100-d5e8-360818334bfb"
      },
      "source": [
        "X_train_trf"
      ],
      "execution_count": 81,
      "outputs": [
        {
          "output_type": "execute_result",
          "data": {
            "text/plain": [
              "array([[ 0.47630034,  0.00845301,  0.01663292,  0.01169941,  0.18954007],\n",
              "       [ 0.47630957,  0.00809866,  0.0171988 ,  0.01268902,  0.61082553],\n",
              "       [ 0.47632793,  0.00965796,  0.01682859,  0.01129761,  0.33120915],\n",
              "       ...,\n",
              "       [ 0.47631562,  0.00762739,  0.01642995,  0.00728038, -0.26277612],\n",
              "       [ 0.47633112,  0.00779704,  0.01728642,  0.01345111,  0.6463209 ],\n",
              "       [-2.09940307,  0.00913809,  0.01789212,  0.00639742, -0.19203931]])"
            ]
          },
          "metadata": {
            "tags": []
          },
          "execution_count": 81
        }
      ]
    },
    {
      "cell_type": "markdown",
      "metadata": {
        "id": "bCkTbB5y5s7m"
      },
      "source": [
        "# **CREAT MODEL AND TRAIN**"
      ]
    },
    {
      "cell_type": "code",
      "metadata": {
        "colab": {
          "base_uri": "https://localhost:8080/"
        },
        "id": "wL8hYh5s5wVw",
        "outputId": "4d47952f-a806-459c-fde7-e8538dc0c850"
      },
      "source": [
        "model_lr = LogisticRegression(solver=\"lbfgs\", random_state=69)\n",
        "%time model_lr.fit(X_train_trf, y_train)"
      ],
      "execution_count": 82,
      "outputs": [
        {
          "output_type": "stream",
          "text": [
            "CPU times: user 119 ms, sys: 86.8 ms, total: 206 ms\n",
            "Wall time: 110 ms\n"
          ],
          "name": "stdout"
        },
        {
          "output_type": "execute_result",
          "data": {
            "text/plain": [
              "LogisticRegression(C=1.0, class_weight=None, dual=False, fit_intercept=True,\n",
              "                   intercept_scaling=1, l1_ratio=None, max_iter=100,\n",
              "                   multi_class='auto', n_jobs=None, penalty='l2',\n",
              "                   random_state=69, solver='lbfgs', tol=0.0001, verbose=0,\n",
              "                   warm_start=False)"
            ]
          },
          "metadata": {
            "tags": []
          },
          "execution_count": 82
        }
      ]
    },
    {
      "cell_type": "code",
      "metadata": {
        "colab": {
          "base_uri": "https://localhost:8080/"
        },
        "id": "LRyvsIlo6MJj",
        "outputId": "7fe55963-5432-40ff-a1ec-58039f3291a1"
      },
      "source": [
        "from sklearn.svm import SVC\n",
        "model_svc_linear = SVC(kernel='linear', random_state=69,C=1)\n",
        "%time model_svc_linear.fit(X_train_trf, y_train)"
      ],
      "execution_count": 83,
      "outputs": [
        {
          "output_type": "stream",
          "text": [
            "CPU times: user 3.94 s, sys: 171 ms, total: 4.11 s\n",
            "Wall time: 4.09 s\n"
          ],
          "name": "stdout"
        },
        {
          "output_type": "execute_result",
          "data": {
            "text/plain": [
              "SVC(C=1, break_ties=False, cache_size=200, class_weight=None, coef0=0.0,\n",
              "    decision_function_shape='ovr', degree=3, gamma='scale', kernel='linear',\n",
              "    max_iter=-1, probability=False, random_state=69, shrinking=True, tol=0.001,\n",
              "    verbose=False)"
            ]
          },
          "metadata": {
            "tags": []
          },
          "execution_count": 83
        }
      ]
    },
    {
      "cell_type": "code",
      "metadata": {
        "colab": {
          "base_uri": "https://localhost:8080/"
        },
        "id": "4RZu6UGN6Rod",
        "outputId": "b23e9a3c-72d3-4650-e86a-b4ee32ee63d6"
      },
      "source": [
        "from sklearn.svm import SVC\n",
        "model_svc = SVC(kernel='rbf', random_state=69,C=1)\n",
        "%time model_svc.fit(X_train_trf, y_train)"
      ],
      "execution_count": 84,
      "outputs": [
        {
          "output_type": "stream",
          "text": [
            "CPU times: user 4.26 s, sys: 57.9 ms, total: 4.32 s\n",
            "Wall time: 4.32 s\n"
          ],
          "name": "stdout"
        },
        {
          "output_type": "execute_result",
          "data": {
            "text/plain": [
              "SVC(C=1, break_ties=False, cache_size=200, class_weight=None, coef0=0.0,\n",
              "    decision_function_shape='ovr', degree=3, gamma='scale', kernel='rbf',\n",
              "    max_iter=-1, probability=False, random_state=69, shrinking=True, tol=0.001,\n",
              "    verbose=False)"
            ]
          },
          "metadata": {
            "tags": []
          },
          "execution_count": 84
        }
      ]
    },
    {
      "cell_type": "code",
      "metadata": {
        "colab": {
          "base_uri": "https://localhost:8080/"
        },
        "id": "PWSX86n46xfT",
        "outputId": "9ec8de26-900e-464d-d336-55017473668d"
      },
      "source": [
        "from sklearn.svm import SVC\n",
        "model_svc_poly = SVC(kernel='poly',degree=4, random_state=69,C=1)\n",
        "%time model_svc_poly.fit(X_train_trf, y_train)"
      ],
      "execution_count": 85,
      "outputs": [
        {
          "output_type": "stream",
          "text": [
            "CPU times: user 3min 17s, sys: 112 ms, total: 3min 17s\n",
            "Wall time: 3min 16s\n"
          ],
          "name": "stdout"
        },
        {
          "output_type": "execute_result",
          "data": {
            "text/plain": [
              "SVC(C=1, break_ties=False, cache_size=200, class_weight=None, coef0=0.0,\n",
              "    decision_function_shape='ovr', degree=4, gamma='scale', kernel='poly',\n",
              "    max_iter=-1, probability=False, random_state=69, shrinking=True, tol=0.001,\n",
              "    verbose=False)"
            ]
          },
          "metadata": {
            "tags": []
          },
          "execution_count": 85
        }
      ]
    },
    {
      "cell_type": "markdown",
      "metadata": {
        "id": "O6-my61I9OPY"
      },
      "source": [
        "# **PERFORMANCE EVALUATION**"
      ]
    },
    {
      "cell_type": "code",
      "metadata": {
        "id": "yn0215AK9Rfb"
      },
      "source": [
        "X_val_trf = scaler.transform(X_val) "
      ],
      "execution_count": 108,
      "outputs": []
    },
    {
      "cell_type": "code",
      "metadata": {
        "colab": {
          "base_uri": "https://localhost:8080/"
        },
        "id": "ijEJpQUg9S_D",
        "outputId": "e0fb5ad5-ab9a-4f8d-d198-8d24237847d6"
      },
      "source": [
        "%time y_val_predict = model_svc.predict(X_val_trf)\n",
        "from sklearn.metrics import classification_report\n",
        "print(classification_report(y_val, y_val_predict))"
      ],
      "execution_count": 109,
      "outputs": [
        {
          "output_type": "stream",
          "text": [
            "CPU times: user 623 ms, sys: 1.01 ms, total: 624 ms\n",
            "Wall time: 624 ms\n",
            "              precision    recall  f1-score   support\n",
            "\n",
            "           0       0.00      0.00      0.00       771\n",
            "           1       0.81      1.00      0.89      3229\n",
            "\n",
            "    accuracy                           0.81      4000\n",
            "   macro avg       0.40      0.50      0.45      4000\n",
            "weighted avg       0.65      0.81      0.72      4000\n",
            "\n"
          ],
          "name": "stdout"
        },
        {
          "output_type": "stream",
          "text": [
            "/usr/local/lib/python3.7/dist-packages/sklearn/metrics/_classification.py:1272: UndefinedMetricWarning: Precision and F-score are ill-defined and being set to 0.0 in labels with no predicted samples. Use `zero_division` parameter to control this behavior.\n",
            "  _warn_prf(average, modifier, msg_start, len(result))\n"
          ],
          "name": "stderr"
        }
      ]
    },
    {
      "cell_type": "code",
      "metadata": {
        "colab": {
          "base_uri": "https://localhost:8080/"
        },
        "id": "eJP7esW79ZKE",
        "outputId": "97e02d6c-58ff-4657-a6e1-049c2fb779be"
      },
      "source": [
        "%time y_val_predict = model_svc_linear.predict(X_val_trf)\n",
        "from sklearn.metrics import classification_report\n",
        "print(classification_report(y_val, y_val_predict))"
      ],
      "execution_count": 110,
      "outputs": [
        {
          "output_type": "stream",
          "text": [
            "CPU times: user 211 ms, sys: 0 ns, total: 211 ms\n",
            "Wall time: 216 ms\n",
            "              precision    recall  f1-score   support\n",
            "\n",
            "           0       0.00      0.00      0.00       771\n",
            "           1       0.81      1.00      0.89      3229\n",
            "\n",
            "    accuracy                           0.81      4000\n",
            "   macro avg       0.40      0.50      0.45      4000\n",
            "weighted avg       0.65      0.81      0.72      4000\n",
            "\n"
          ],
          "name": "stdout"
        },
        {
          "output_type": "stream",
          "text": [
            "/usr/local/lib/python3.7/dist-packages/sklearn/metrics/_classification.py:1272: UndefinedMetricWarning: Precision and F-score are ill-defined and being set to 0.0 in labels with no predicted samples. Use `zero_division` parameter to control this behavior.\n",
            "  _warn_prf(average, modifier, msg_start, len(result))\n"
          ],
          "name": "stderr"
        }
      ]
    },
    {
      "cell_type": "code",
      "metadata": {
        "colab": {
          "base_uri": "https://localhost:8080/"
        },
        "id": "yDRZWHDO9hkL",
        "outputId": "94044851-962c-4786-c641-f3efb15d8000"
      },
      "source": [
        "%time y_val_predict = model_lr.predict(X_val_trf)\n",
        "from sklearn.metrics import classification_report\n",
        "print(classification_report(y_val, y_val_predict))"
      ],
      "execution_count": 113,
      "outputs": [
        {
          "output_type": "stream",
          "text": [
            "CPU times: user 1.99 ms, sys: 0 ns, total: 1.99 ms\n",
            "Wall time: 1.58 ms\n",
            "              precision    recall  f1-score   support\n",
            "\n",
            "           0       0.31      0.02      0.04       771\n",
            "           1       0.81      0.99      0.89      3229\n",
            "\n",
            "    accuracy                           0.80      4000\n",
            "   macro avg       0.56      0.51      0.47      4000\n",
            "weighted avg       0.71      0.80      0.73      4000\n",
            "\n"
          ],
          "name": "stdout"
        }
      ]
    },
    {
      "cell_type": "markdown",
      "metadata": {
        "id": "Ry0o2mxv99Gh"
      },
      "source": [
        "# **ROC CURVE**"
      ]
    },
    {
      "cell_type": "code",
      "metadata": {
        "id": "QeqIz7sL9-YX"
      },
      "source": [
        "def plot_roc_curve(fpr, tpr, label=None):\n",
        "    plt.plot(fpr, tpr, linewidth=2, label=label)\n",
        "    plt.plot([0, 1], [0, 1], 'k--') # dashed diagonal\n",
        "    plt.axis([0, 1, 0, 1])                                    # Not shown in the book\n",
        "    plt.xlabel('False Positive Rate (Fall-Out)', fontsize=16) # Not shown\n",
        "    plt.ylabel('True Positive Rate (Recall)', fontsize=16)    # Not shown\n",
        "    plt.grid(True)                                            # Not shown"
      ],
      "execution_count": 114,
      "outputs": []
    },
    {
      "cell_type": "code",
      "metadata": {
        "id": "fxMLD32m-BiX"
      },
      "source": [
        "from sklearn.model_selection import cross_val_predict"
      ],
      "execution_count": 115,
      "outputs": []
    },
    {
      "cell_type": "code",
      "metadata": {
        "id": "8Av7-gf7-Fx7"
      },
      "source": [
        "from sklearn.metrics import roc_curve,auc"
      ],
      "execution_count": 116,
      "outputs": []
    },
    {
      "cell_type": "code",
      "metadata": {
        "colab": {
          "base_uri": "https://localhost:8080/",
          "height": 414
        },
        "id": "r5m4n6eR-Ok5",
        "outputId": "e9ca113f-dc11-48eb-bc38-f13c9ef02d1d"
      },
      "source": [
        "plt.figure(figsize=(8, 6))                                    # Not shown\n",
        "plt.axis([0, 1, 0, 1])                                    # Not shown in the book\n",
        "plt.xlabel('False Positive Rate (Fall-Out)', fontsize=16) # Not shown\n",
        "plt.ylabel('True Positive Rate (Recall)', fontsize=16)    # Not shown\n",
        "plt.grid(True)                                            # Not shown\n",
        "plt.plot([0, 1], [0, 1], 'k--') # dashed diagonal\n",
        "labels=['LogReg','SVM','SVM Poly']\n",
        "for idx,model in enumerate([model_lr,model_svc,model_svc_poly]):\n",
        "    y_scores = model.decision_function(X_val_trf)\n",
        "    fpr, tpr, thresholds = roc_curve(y_val, y_scores)\n",
        "    roc_auc = auc(fpr, tpr)\n",
        "    plt.plot(fpr, tpr, linewidth=2,label=labels[idx] + ' ROC curve (area = %0.2f)' % roc_auc)\n",
        "plt.legend(loc=\"lower right\")"
      ],
      "execution_count": 117,
      "outputs": [
        {
          "output_type": "execute_result",
          "data": {
            "text/plain": [
              "<matplotlib.legend.Legend at 0x7f8811a48550>"
            ]
          },
          "metadata": {
            "tags": []
          },
          "execution_count": 117
        },
        {
          "output_type": "display_data",
          "data": {
            "image/png": "[encoded data removed]",
            "text/plain": [
              "<Figure size 576x432 with 1 Axes>"
            ]
          },
          "metadata": {
            "tags": [],
            "needs_background": "light"
          }
        }
      ]
    },
    {
      "cell_type": "markdown",
      "metadata": {
        "id": "mZoJXUW4BsvH"
      },
      "source": [
        "# **MODEL ANALYSIS**"
      ]
    },
    {
      "cell_type": "markdown",
      "metadata": {
        "id": "rLu3wvEUBvFI"
      },
      "source": [
        "Setelah dilakukan permodelan dengan 3 model yaitu LogReg, SVM, dan SVM Poly menggunakan ROC Curve dapat disimpulkan bahwa model LogReg memiliki konsistensi dalam menilai true positive rate (recall) berbeda dengan model SVM dan model SVM Poly dimana kedua model tersebut memiliki perubahan dalam menilai true positive rate (recall) namun pada akhir menuju nilai fall-out 1.0 kedua model baik SVM dan SVM Poly menunjukkan hasil recall yang lebih baik dibanding model LogReg"
      ]
    }
  ]
}